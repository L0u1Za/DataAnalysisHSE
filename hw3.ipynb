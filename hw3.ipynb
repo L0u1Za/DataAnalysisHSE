{
 "cells": [
  {
   "cell_type": "markdown",
   "metadata": {
    "id": "s3v5HIUdDvY5"
   },
   "source": [
    "# HSE 2021: Mathematical Methods for Data Analysis\n",
    "\n",
    "## Homework 3\n",
    "\n",
    "**Warning 1**: some problems require (especially the lemmatization part) significant amount of time, so **it is better to start early (!)**\n",
    "\n",
    "**Warning 2**: it is critical to describe and explain what you are doing and why, use markdown cells"
   ]
  },
  {
   "cell_type": "code",
   "execution_count": 1,
   "metadata": {
    "id": "F7t9dYtdDvZC"
   },
   "outputs": [],
   "source": [
    "from typing import Tuple, List\n",
    "\n",
    "import matplotlib.pyplot as plt\n",
    "import numpy as np\n",
    "import pandas as pd\n",
    "import seaborn as sns\n",
    "%matplotlib inline\n",
    "\n",
    "sns.set(style=\"darkgrid\")"
   ]
  },
  {
   "cell_type": "markdown",
   "metadata": {
    "id": "fIHtwV6vDvZD"
   },
   "source": [
    "## PART 1: Logit model"
   ]
  },
  {
   "cell_type": "markdown",
   "metadata": {
    "id": "Q7XKEWcVDvZD"
   },
   "source": [
    "We consider a binary classification problem. For prediction, we would like to use a logistic regression model. For regularization we add a combination of the $l_2$ and $l_1$ penalties (Elastic Net). \n",
    "\n",
    "Each object in the training dataset is indexed with $i$ and described by pair: features $x_i\\in\\mathbb{R}^{K}$ and binary labels $y_i$. The model parametrized with bias $w_0\\in\\mathbb{R}$ and weights $w\\in\\mathbb{R}^K$.\n",
    "\n",
    "The optimization problem with respect to the $w_0, w$ is the following (Elastic Net Loss):\n",
    "\n",
    "$$L(w, w_0) = \\frac{1}{N} \\sum_{i=1}^N \\ln(1+\\exp(-y_i(w^\\top x_i+w_0))) + \\gamma \\|w\\|_1 + \\beta \\|w\\|_2^2$$."
   ]
  },
  {
   "cell_type": "markdown",
   "metadata": {
    "id": "j1eSuDKXFVZu"
   },
   "source": [
    "#### 1. [0.5 points]  Find the gradient of the Elastic Net loss and write its formulas (better in latex format) "
   ]
  },
  {
   "cell_type": "markdown",
   "metadata": {
    "id": "1zjH-YnPDvZD"
   },
   "source": [
    "$$ \\nabla L(w, w_0) = -\\frac{1}{N}\\sum_{i=1}^N \\frac{e^{-y_i(w^\\top x_i+w_0)}}{1 + e^{-y_i(w^\\top x_i + w_0)}}y_i x_i + \\gamma sign(w) + 2\\beta w $$\n"
   ]
  },
  {
   "cell_type": "markdown",
   "metadata": {
    "id": "Q_lIccN_DvZE"
   },
   "source": [
    "#### 2. [0.25 points] Implement the Elastic Net loss (as a function)"
   ]
  },
  {
   "cell_type": "code",
   "execution_count": 2,
   "metadata": {
    "id": "9QNfCtV5DvZE"
   },
   "outputs": [],
   "source": [
    "def loss(X, y, w: List[float], w0: float, gamma=1., beta=1.) -> float:\n",
    "    return 1.0 / X.shape[0] * np.sum(np.log(1 + np.exp((X.dot(w) + w0) * -y))) + gamma * np.linalg.norm(w, 1) + beta * np.linalg.norm(w, 2)"
   ]
  },
  {
   "cell_type": "markdown",
   "metadata": {
    "id": "fIVoC6UmDvZE"
   },
   "source": [
    "#### 3. [0.25 points] Implement the gradient (as a function)"
   ]
  },
  {
   "cell_type": "code",
   "execution_count": 3,
   "metadata": {
    "id": "HWqBLGRADvZE"
   },
   "outputs": [],
   "source": [
    "def get_grad(X, y, w: List[float], w0: float, gamma=1., beta=1.) -> Tuple[List[float], float]:\n",
    "    value = np.exp((X.dot(w) + w0) * -y)\n",
    "\n",
    "    grad_w0 = -1.0 / X.shape[0] * ((value / (1 + value)).dot(y))\n",
    "    grad_w = -1.0 / X.shape[0] * ((value / (1 + value) * y).dot(X)) + gamma * np.sign(w) + 2 * beta * w\n",
    "    \n",
    "    return grad_w, grad_w0"
   ]
  },
  {
   "cell_type": "markdown",
   "metadata": {
    "id": "BhOb8HrtDvZF"
   },
   "source": [
    "#### Check yourself"
   ]
  },
  {
   "cell_type": "code",
   "execution_count": 4,
   "metadata": {
    "id": "3FxXTocHDvZF"
   },
   "outputs": [],
   "source": [
    "np.random.seed(42)\n",
    "X = np.random.multivariate_normal(np.arange(5), np.eye(5), size=10)\n",
    "y = np.random.binomial(1, 0.42, size=10)\n",
    "w, w0 = np.random.normal(size=5), np.random.normal()\n",
    "\n",
    "grad_w, grad_w0 = get_grad(X, y, w, w0)\n",
    "assert(np.allclose(grad_w,\n",
    "                   [-2.73262076, -1.87176281, 1.30051144, 2.53598941, -2.71198109],\n",
    "                   rtol=1e-2) & \\\n",
    "       np.allclose(grad_w0,\n",
    "                   -0.2078231418067844, \n",
    "                   rtol=1e-2)\n",
    ")"
   ]
  },
  {
   "cell_type": "markdown",
   "metadata": {
    "id": "LbqLfcrRDvZF"
   },
   "source": [
    "####  4. [1 point]  Implement gradient descent which works for both tol level and max_iter stop criteria and plot the decision boundary of the result"
   ]
  },
  {
   "cell_type": "markdown",
   "metadata": {
    "id": "iIgiwQkjDvZF"
   },
   "source": [
    "The template provides basic sklearn API class. You are free to modify it in any convenient way."
   ]
  },
  {
   "cell_type": "code",
   "execution_count": 5,
   "metadata": {
    "id": "Thyeux0KDvZG"
   },
   "outputs": [],
   "source": [
    "from sklearn.base import BaseEstimator, ClassifierMixin"
   ]
  },
  {
   "cell_type": "code",
   "execution_count": 6,
   "metadata": {
    "id": "erVmNR0PDvZG"
   },
   "outputs": [],
   "source": [
    "class Logit(BaseEstimator, ClassifierMixin):\n",
    "    def __init__(self, beta=1.0, gamma=1.0, learning_rate=1e-3, tolerance=0.01, max_iter=1000, random_state=42):  \n",
    "        self.beta = beta        \n",
    "        self.gamma = gamma\n",
    "        self.tolerance= tolerance\n",
    "        self.max_iter= max_iter\n",
    "        self.learning_rate = learning_rate\n",
    "        self.random_state = random_state\n",
    "        # you may additional properties if you wish\n",
    "        \n",
    "    def fit(self, X, y):\n",
    "        # add weights and bias and optimize Elastic Net loss over (X,y) dataset\n",
    "        # save history of optimization steps\n",
    "        \n",
    "        self.loss_history = []\n",
    "        self.w = np.random.rand(X.shape[1])\n",
    "        self.w0 = np.random.rand()\n",
    "        \n",
    "        for iter in range(self.max_iter):\n",
    "            self.loss_history.append(loss(X, y, self.w, self.w0, gamma=self.gamma, beta=self.beta))\n",
    "\n",
    "            addition_w, addition_w0 = get_grad(X, y, self.w, self.w0, gamma=self.gamma, beta=self.beta)\n",
    "            if np.linalg.norm(addition_w) < self.tolerance:\n",
    "                break\n",
    "                \n",
    "            self.w -= addition_w * self.learning_rate\n",
    "            self.w0 -= addition_w0 * self.learning_rate\n",
    "        \n",
    "        return self\n",
    "    \n",
    "    def predict(self, X):\n",
    "        return np.sign(np.dot(X, self.w) + self.w0)\n",
    "        \n",
    "    def predict_proba(self, X):\n",
    "        return np.array([1 / (1 + np.exp(np.dot(X, self.w) + self.w0)),\\\n",
    "                         1 / (1 + np.exp(-np.dot(X, self.w) - self.w0))]).reshape((1, -1))"
   ]
  },
  {
   "cell_type": "code",
   "execution_count": 7,
   "metadata": {
    "id": "7SJX8Y6EDvZG"
   },
   "outputs": [],
   "source": [
    "# sample data to test your model\n",
    "from sklearn.datasets import make_classification\n",
    "X, y = make_classification(n_samples=180, n_features=2, n_redundant=0, n_informative=2,\n",
    "                               random_state=42, n_clusters_per_class=1)"
   ]
  },
  {
   "cell_type": "code",
   "execution_count": 8,
   "metadata": {
    "id": "u41kzwGTDvZH"
   },
   "outputs": [],
   "source": [
    "# a function to plot the decision boundary\n",
    "def plot_decision_boundary(model, X, y):\n",
    "    fig = plt.figure()\n",
    "    X1min, X2min = X.min(axis=0)\n",
    "    X1max, X2max = X.max(axis=0)\n",
    "    x1, x2 = np.meshgrid(np.linspace(X1min, X1max, 200),\n",
    "                         np.linspace(X2min, X2max, 200))\n",
    "    ypred = model.predict(np.c_[x1.ravel(), x2.ravel()])\n",
    "    ypred = ypred.reshape(x1.shape)\n",
    "    \n",
    "    plt.contourf(x1, x2, ypred, alpha=.4)\n",
    "    plt.scatter(X[:,0], X[:,1], c=y)"
   ]
  },
  {
   "cell_type": "code",
   "execution_count": 9,
   "metadata": {
    "id": "mNuYbsAoDvZI"
   },
   "outputs": [
    {
     "data": {
      "image/png": "[encoded data removed]",
      "text/plain": [
       "<Figure size 432x288 with 1 Axes>"
      ]
     },
     "metadata": {},
     "output_type": "display_data"
    }
   ],
   "source": [
    "model = Logit(0,0, max_iter=100000)\n",
    "y[y == 0] = -1\n",
    "model.fit(X, y)\n",
    "plot_decision_boundary(model, X, y)"
   ]
  },
  {
   "cell_type": "markdown",
   "metadata": {
    "id": "Qi4WRhcADvZI"
   },
   "source": [
    "#### 5. [0.25 points] Plot loss diagram for the model, i.e. show the dependence of the loss function from the gradient descent steps"
   ]
  },
  {
   "cell_type": "code",
   "execution_count": 10,
   "metadata": {
    "id": "VyjMDAKuDvZI"
   },
   "outputs": [
    {
     "data": {
      "text/plain": [
       "Text(0.5, 1.0, 'Loss history')"
      ]
     },
     "execution_count": 10,
     "metadata": {},
     "output_type": "execute_result"
    },
    {
     "data": {
      "image/png": "[encoded data removed]",
      "text/plain": [
       "<Figure size 432x288 with 1 Axes>"
      ]
     },
     "metadata": {},
     "output_type": "display_data"
    }
   ],
   "source": [
    "logit = Logit(0, 0.01, learning_rate=0.01, max_iter=100000)\n",
    "\n",
    "logit.fit(X, y)\n",
    "logit.predict(X)\n",
    "\n",
    "plt.xlabel('number of iterations')\n",
    "plt.plot(logit.loss_history)\n",
    "plt.title('Loss history')"
   ]
  },
  {
   "cell_type": "markdown",
   "metadata": {
    "id": "0FhSCAv_DvZJ"
   },
   "source": [
    "## PART 2: Support Vector Machines"
   ]
  },
  {
   "cell_type": "markdown",
   "metadata": {
    "id": "lYyGsSxEDvZJ"
   },
   "source": [
    "#### 6. [2 point] Using the same dataset, train SVM Classifier from Sklearn.\n",
    "Investigate how different parameters influence the quality of the solution:\n",
    "+ Try several kernels: Linear, Polynomial, RBF (and others if you wish). Some Kernels have hypermeters: don't forget to try different.\n",
    "+ Regularization coefficient \n",
    "\n",
    "Show how these parameters affect accuracy, roc_auc and f1 score. \n",
    "Make plots for the dependencies between metrics and parameters. \n",
    "Try to formulate conclusions from the observations. How sensitive are kernels to hyperparameters? How sensitive is a solution to the regularization? Which kernel is prone to overfitting?"
   ]
  },
  {
   "cell_type": "code",
   "execution_count": 5,
   "metadata": {},
   "outputs": [],
   "source": [
    "from sklearn.datasets import make_classification\n",
    "from sklearn.svm import SVC\n",
    "from sklearn.model_selection import train_test_split\n",
    "\n",
    "X, y = make_classification(n_samples=180, n_features=2, n_redundant=0, n_informative=2,\n",
    "                               random_state=42, n_clusters_per_class=1)\n",
    "X_train, X_test, y_train, y_test = train_test_split(X, y)"
   ]
  },
  {
   "cell_type": "markdown",
   "metadata": {},
   "source": [
    "### Linear"
   ]
  },
  {
   "cell_type": "code",
   "execution_count": 6,
   "metadata": {
    "id": "Nicu_O3IDvZK"
   },
   "outputs": [],
   "source": [
    "X_train, X_test, y_train, y_test = train_test_split(X, y)\n",
    "model = SVC(C=0.1, kernel='linear')\n",
    "model.fit(X_train, y_train)\n",
    "y_pred = model.predict(X_test)"
   ]
  },
  {
   "cell_type": "code",
   "execution_count": 7,
   "metadata": {},
   "outputs": [
    {
     "name": "stdout",
     "output_type": "stream",
     "text": [
      "              precision    recall  f1-score   support\n",
      "\n",
      "           0       0.95      0.91      0.93        22\n",
      "           1       0.92      0.96      0.94        23\n",
      "\n",
      "    accuracy                           0.93        45\n",
      "   macro avg       0.93      0.93      0.93        45\n",
      "weighted avg       0.93      0.93      0.93        45\n",
      "\n"
     ]
    }
   ],
   "source": [
    "from sklearn.metrics import classification_report\n",
    "print(classification_report(y_test, y_pred))"
   ]
  },
  {
   "cell_type": "code",
   "execution_count": 8,
   "metadata": {},
   "outputs": [
    {
     "data": {
      "text/plain": [
       "<matplotlib.legend.Legend at 0x22afadaba30>"
      ]
     },
     "execution_count": 8,
     "metadata": {},
     "output_type": "execute_result"
    },
    {
     "data": {
      "image/png": "[encoded data removed]",
      "text/plain": [
       "<Figure size 720x504 with 1 Axes>"
      ]
     },
     "metadata": {},
     "output_type": "display_data"
    }
   ],
   "source": [
    "from sklearn.metrics import confusion_matrix, accuracy_score, roc_auc_score, f1_score\n",
    "\n",
    "C_list = np.linspace(0.01, 1, 50)\n",
    "\n",
    "accuracy_hist = []\n",
    "roc_auc_hist = []\n",
    "f1_hist = []\n",
    "\n",
    "for c in C_list:\n",
    "    model = SVC(C=c, kernel='linear', probability=True)\n",
    "    model.fit(X_train, y_train)\n",
    "    y_pred = model.predict(X_test)\n",
    "    accuracy_hist.append(accuracy_score(y_pred, y_test))\n",
    "    roc_auc_hist.append(roc_auc_score(y_pred, model.predict_proba(X_test)[:, 1]))\n",
    "    f1_hist.append(f1_score(y_pred, y_test))\n",
    "\n",
    "plt.figure(figsize=(10, 7))\n",
    "plt.xlabel(\"C\")\n",
    "plt.ylabel(\"Score\")\n",
    "plt.plot(C_list, accuracy_hist, color = \"red\", label='accuracy')\n",
    "plt.plot(C_list, f1_hist, color = \"yellow\", label='F1-score')\n",
    "plt.plot(C_list, roc_auc_hist, color = \"blue\", label='ROC-AUC')\n",
    "plt.legend()"
   ]
  },
  {
   "cell_type": "markdown",
   "metadata": {},
   "source": [
    "*Выводы*\n",
    "\n",
    "Линейный SVM не чувствителен к подбору гиперпараметров(параметру C регуляризации). При почти всех параметрах score остается очень высоким = 1.0(Такой хороший результат получен из-за того, что в данных нам пришли полностью линейно разделимые данные)"
   ]
  },
  {
   "cell_type": "markdown",
   "metadata": {},
   "source": [
    "### Polynomial"
   ]
  },
  {
   "cell_type": "code",
   "execution_count": 9,
   "metadata": {},
   "outputs": [],
   "source": [
    "model = SVC(C=0.1, kernel='poly')\n",
    "model.fit(X_train, y_train)\n",
    "y_pred = model.predict(X_test)"
   ]
  },
  {
   "cell_type": "code",
   "execution_count": 10,
   "metadata": {},
   "outputs": [
    {
     "name": "stdout",
     "output_type": "stream",
     "text": [
      "              precision    recall  f1-score   support\n",
      "\n",
      "           0       0.95      0.95      0.95        22\n",
      "           1       0.96      0.96      0.96        23\n",
      "\n",
      "    accuracy                           0.96        45\n",
      "   macro avg       0.96      0.96      0.96        45\n",
      "weighted avg       0.96      0.96      0.96        45\n",
      "\n"
     ]
    }
   ],
   "source": [
    "from sklearn.metrics import classification_report\n",
    "print(classification_report(y_test, y_pred))"
   ]
  },
  {
   "cell_type": "code",
   "execution_count": 11,
   "metadata": {},
   "outputs": [
    {
     "data": {
      "text/plain": [
       "<matplotlib.legend.Legend at 0x22afb2193a0>"
      ]
     },
     "execution_count": 11,
     "metadata": {},
     "output_type": "execute_result"
    },
    {
     "data": {
      "image/png": "[encoded data removed]",
      "text/plain": [
       "<Figure size 720x504 with 1 Axes>"
      ]
     },
     "metadata": {},
     "output_type": "display_data"
    }
   ],
   "source": [
    "from sklearn.metrics import confusion_matrix, accuracy_score, roc_auc_score, f1_score\n",
    "\n",
    "C_list = np.linspace(0.01, 1, 50)\n",
    "\n",
    "accuracy_hist = []\n",
    "roc_auc_hist = []\n",
    "f1_hist = []\n",
    "\n",
    "for c in C_list:\n",
    "    model = SVC(C=c, kernel='poly', probability=True)\n",
    "    model.fit(X_train, y_train)\n",
    "    y_pred = model.predict(X_test)\n",
    "    accuracy_hist.append(accuracy_score(y_pred, y_test))\n",
    "    roc_auc_hist.append(roc_auc_score(y_test, model.predict_proba(X_test)[:, 1]))\n",
    "    f1_hist.append(f1_score(y_pred, y_test))\n",
    "\n",
    "plt.figure(figsize=(10, 7))\n",
    "plt.xlabel(\"C\")\n",
    "plt.ylabel(\"Score\")\n",
    "plt.plot(C_list, accuracy_hist, color = \"red\", label='accuracy')\n",
    "plt.plot(C_list, f1_hist, color = \"yellow\", label='F1-score')\n",
    "plt.plot(C_list, roc_auc_hist, color = \"blue\", label='ROC-AUC')\n",
    "plt.legend()"
   ]
  },
  {
   "cell_type": "code",
   "execution_count": 12,
   "metadata": {},
   "outputs": [
    {
     "data": {
      "text/plain": [
       "<matplotlib.legend.Legend at 0x22afae49250>"
      ]
     },
     "execution_count": 12,
     "metadata": {},
     "output_type": "execute_result"
    },
    {
     "data": {
      "image/png": "[encoded data removed]",
      "text/plain": [
       "<Figure size 720x504 with 1 Axes>"
      ]
     },
     "metadata": {},
     "output_type": "display_data"
    }
   ],
   "source": [
    "from sklearn.metrics import confusion_matrix, accuracy_score, roc_auc_score, f1_score\n",
    "\n",
    "degree_list = list(range(1, 15))\n",
    "\n",
    "accuracy_hist = []\n",
    "roc_auc_hist = []\n",
    "f1_hist = []\n",
    "\n",
    "for degree in degree_list:\n",
    "    model = SVC(degree=degree, kernel='poly', probability=True)\n",
    "    model.fit(X_train, y_train)\n",
    "    y_pred = model.predict(X_test)\n",
    "    accuracy_hist.append(accuracy_score(y_pred, y_test))\n",
    "    roc_auc_hist.append(roc_auc_score(y_test, model.predict_proba(X_test)[:, 1]))\n",
    "    f1_hist.append(f1_score(y_pred, y_test))\n",
    "\n",
    "plt.figure(figsize=(10, 7))\n",
    "plt.xlabel(\"degree\")\n",
    "plt.ylabel(\"Score\")\n",
    "plt.plot(degree_list, accuracy_hist, color = \"red\", label='accuracy')\n",
    "plt.plot(degree_list, f1_hist, color = \"yellow\", label='F1-score')\n",
    "plt.plot(degree_list, roc_auc_hist, color = \"blue\", label='ROC-AUC')\n",
    "plt.legend()"
   ]
  },
  {
   "cell_type": "code",
   "execution_count": 13,
   "metadata": {},
   "outputs": [
    {
     "data": {
      "text/plain": [
       "<matplotlib.legend.Legend at 0x22afb21b850>"
      ]
     },
     "execution_count": 13,
     "metadata": {},
     "output_type": "execute_result"
    },
    {
     "data": {
      "image/png": "[encoded data removed]",
      "text/plain": [
       "<Figure size 720x504 with 1 Axes>"
      ]
     },
     "metadata": {},
     "output_type": "display_data"
    }
   ],
   "source": [
    "from sklearn.metrics import confusion_matrix, accuracy_score, roc_auc_score, f1_score\n",
    "\n",
    "gamma_list = np.linspace(0.1, 1, 50)\n",
    "\n",
    "accuracy_hist = []\n",
    "roc_auc_hist = []\n",
    "f1_hist = []\n",
    "\n",
    "for gamma in gamma_list:\n",
    "    model = SVC(gamma=gamma, kernel='poly', probability=True)\n",
    "    model.fit(X_train, y_train)\n",
    "    y_pred = model.predict(X_test)\n",
    "    accuracy_hist.append(accuracy_score(y_test, y_pred))\n",
    "    roc_auc_hist.append(roc_auc_score(y_test, model.predict_proba(X_test)[:, 1]))\n",
    "    f1_hist.append(f1_score(y_test, y_pred))\n",
    "\n",
    "plt.figure(figsize=(10, 7))\n",
    "plt.xlabel(\"gamma\")\n",
    "plt.ylabel(\"Score\")\n",
    "plt.plot(gamma_list, accuracy_hist, color = \"red\", label='accuracy')\n",
    "plt.plot(gamma_list, f1_hist, color = \"yellow\", label='F1-score')\n",
    "plt.plot(gamma_list, roc_auc_hist, color = \"blue\", label='ROC-AUC')\n",
    "plt.legend()"
   ]
  },
  {
   "cell_type": "markdown",
   "metadata": {},
   "source": [
    "*Выводы*\n",
    "\n",
    "Ядро polynomal также устойчиво к параметру C регуляризации, но неустойчиво к изменению степени полинома, т.к. при больших размерностях может переобучаться и находить несуществующие зависимости. Также, скорее всего, можно сказать, что неусточив к параметру gamma. При увеличении gamma score меняется."
   ]
  },
  {
   "cell_type": "markdown",
   "metadata": {},
   "source": [
    "### RBF"
   ]
  },
  {
   "cell_type": "code",
   "execution_count": 14,
   "metadata": {},
   "outputs": [],
   "source": [
    "model = SVC(C=0.1, kernel='rbf')\n",
    "model.fit(X_train, y_train)\n",
    "y_pred = model.predict(X_test)"
   ]
  },
  {
   "cell_type": "code",
   "execution_count": 15,
   "metadata": {},
   "outputs": [
    {
     "name": "stdout",
     "output_type": "stream",
     "text": [
      "              precision    recall  f1-score   support\n",
      "\n",
      "           0       1.00      0.86      0.93        22\n",
      "           1       0.88      1.00      0.94        23\n",
      "\n",
      "    accuracy                           0.93        45\n",
      "   macro avg       0.94      0.93      0.93        45\n",
      "weighted avg       0.94      0.93      0.93        45\n",
      "\n"
     ]
    }
   ],
   "source": [
    "from sklearn.metrics import classification_report\n",
    "print(classification_report(y_test, y_pred))"
   ]
  },
  {
   "cell_type": "code",
   "execution_count": 16,
   "metadata": {},
   "outputs": [
    {
     "data": {
      "text/plain": [
       "<matplotlib.legend.Legend at 0x22afaf3c0a0>"
      ]
     },
     "execution_count": 16,
     "metadata": {},
     "output_type": "execute_result"
    },
    {
     "data": {
      "image/png": "[encoded data removed]",
      "text/plain": [
       "<Figure size 720x504 with 1 Axes>"
      ]
     },
     "metadata": {},
     "output_type": "display_data"
    }
   ],
   "source": [
    "from sklearn.metrics import confusion_matrix, accuracy_score, roc_auc_score, f1_score\n",
    "\n",
    "C_list = np.linspace(0.01, 1, 50)\n",
    "\n",
    "accuracy_hist = []\n",
    "roc_auc_hist = []\n",
    "f1_hist = []\n",
    "\n",
    "for c in C_list:\n",
    "    model = SVC(C=c, kernel='rbf', probability=True)\n",
    "    model.fit(X_train, y_train)\n",
    "    y_pred = model.predict(X_test)\n",
    "    accuracy_hist.append(accuracy_score(y_pred, y_test))\n",
    "    roc_auc_hist.append(roc_auc_score(y_test, model.predict_proba(X_test)[:, 1]))\n",
    "    f1_hist.append(f1_score(y_pred, y_test))\n",
    "\n",
    "plt.figure(figsize=(10, 7))\n",
    "plt.xlabel(\"C\")\n",
    "plt.ylabel(\"Score\")\n",
    "plt.plot(C_list, accuracy_hist, color = \"red\", label='accuracy')\n",
    "plt.plot(C_list, f1_hist, color = \"yellow\", label='F1-score')\n",
    "plt.plot(C_list, roc_auc_hist, color = \"blue\", label='ROC-AUC')\n",
    "plt.legend()"
   ]
  },
  {
   "cell_type": "code",
   "execution_count": 17,
   "metadata": {},
   "outputs": [
    {
     "data": {
      "text/plain": [
       "<matplotlib.legend.Legend at 0x22afb4fce50>"
      ]
     },
     "execution_count": 17,
     "metadata": {},
     "output_type": "execute_result"
    },
    {
     "data": {
      "image/png": "[encoded data removed]",
      "text/plain": [
       "<Figure size 720x504 with 1 Axes>"
      ]
     },
     "metadata": {},
     "output_type": "display_data"
    }
   ],
   "source": [
    "from sklearn.metrics import confusion_matrix, accuracy_score, roc_auc_score, f1_score\n",
    "\n",
    "gamma_list = np.linspace(0.01, 1, 50)\n",
    "\n",
    "accuracy_hist = []\n",
    "roc_auc_hist = []\n",
    "f1_hist = []\n",
    "\n",
    "for gamma in gamma_list:\n",
    "    model = SVC(gamma=gamma, kernel='rbf', probability=True)\n",
    "    model.fit(X_train, y_train)\n",
    "    y_pred = model.predict(X_test)\n",
    "    accuracy_hist.append(accuracy_score(y_pred, y_test))\n",
    "    roc_auc_hist.append(roc_auc_score(y_test, model.predict_proba(X_test)[:, 1]))\n",
    "    f1_hist.append(f1_score(y_pred, y_test))\n",
    "\n",
    "plt.figure(figsize=(10, 7))\n",
    "plt.xlabel(\"gamma\")\n",
    "plt.ylabel(\"Score\")\n",
    "plt.plot(gamma_list, accuracy_hist, color = \"red\", label='accuracy')\n",
    "plt.plot(gamma_list, f1_hist, color = \"yellow\", label='F1-score')\n",
    "plt.plot(gamma_list, roc_auc_hist, color = \"blue\", label='ROC-AUC')\n",
    "plt.legend()"
   ]
  },
  {
   "cell_type": "markdown",
   "metadata": {},
   "source": [
    "*Выводы*\n",
    "\n",
    "RBF также устойчив к параметру регуляризации и везде показывает хороший результат. И к параметру gamma устойчив, при больших gamma результат сохраняется хорошим."
   ]
  },
  {
   "cell_type": "markdown",
   "metadata": {
    "id": "sY8q6JdCDvZK"
   },
   "source": [
    "## PART 3: Natural Language Processing"
   ]
  },
  {
   "cell_type": "markdown",
   "metadata": {
    "id": "eD4xKhYfDvZK"
   },
   "source": [
    "#### 7. [1.75 point] Form the dataset\n",
    "\n",
    "We are going to form a dataset that we will use in the following tasks for binary and multiclass classification\n",
    "\n",
    "0. Choose **six** authors that you like (specify who you've chosen) and download the <a href=\"https://www.kaggle.com/d0rj3228/russian-literature?select=prose\">relevant data</a> from **prose** section\n",
    "1. Build your own dataset for these authors: \n",
    "    * divide each text into sentences such that we will have two columns: *sentence* and *target author*, each row will contain one sentence and one target\n",
    "    * drop sentences where N symbols in a sentence < 15\n",
    "    * fix random state and randomly choose sentences in the folowing proportion \"5k : 15k : 8k : 11k : 20k : 3k\" for the authors respectively\n",
    "    \n",
    "    sample data may look like:\n",
    "    \n",
    "    <center> \n",
    "    <table>\n",
    "        <tr>\n",
    "            <th> sentence </th>\n",
    "            <th> author </th>\n",
    "        </tr> \n",
    "        <tr><td> Несколько лет тому назад в одном из своих поместий жил старинный русской барин, Кирила Петрович Троекуров. </td><td> Пушкин </td><td> \n",
    "        <tr><td> Уже более недели приезжий господин жил в городе, разъезжая по вечеринкам и обедам и таким образом проводя, как говорится, очень приятно время. </td><td> Гоголь </td><td> \n",
    "        <tr><td> ... </td><td> ... </td><td> \n",
    "        <tr><td> Я жил недорослем, гоняя голубей и играя в чехарду с дворовыми мальчишками. </td><td> Пушкин </td><td>         \n",
    "    </table>\n",
    "</center>\n",
    "     \n",
    "2. Preprocess (tokenize and clean) the dataset \n",
    "    * tokenize, remove all stop words (nltk.corpus.stopwords), punctuation (string.punctuation) and numbers\n",
    "    * convert to lower case and apply either stemming or lemmatization of the words (on your choice)\n",
    "    * vectorize words using both **bag of words** and **tf-idf** (use sklearn)\n",
    "    * observe and describe the difference between vectorized output (what do numbers look like after transformations and what do they represent?)"
   ]
  },
  {
   "cell_type": "markdown",
   "metadata": {},
   "source": [
    "*1. Build dataset*"
   ]
  },
  {
   "cell_type": "code",
   "execution_count": 35,
   "metadata": {
    "id": "NVStbeQ8DvZL"
   },
   "outputs": [
    {
     "data": {
      "text/plain": [
       "['./lit\\\\Blok',\n",
       " './lit\\\\Bryusov',\n",
       " './lit\\\\Chekhov',\n",
       " './lit\\\\Dostoevsky',\n",
       " './lit\\\\Gogol',\n",
       " './lit\\\\Gorky']"
      ]
     },
     "execution_count": 35,
     "metadata": {},
     "output_type": "execute_result"
    }
   ],
   "source": [
    "# Blok, Bryusov, Chekhov, Dostoevsky, Gogol, Gorky\n",
    "import glob\n",
    "import nltk\n",
    "import codecs\n",
    "import pandas as pd\n",
    "\n",
    "data_path = './lit/*'\n",
    "text_paths = glob.glob(data_path)\n",
    "text_paths"
   ]
  },
  {
   "cell_type": "code",
   "execution_count": 36,
   "metadata": {},
   "outputs": [
    {
     "name": "stderr",
     "output_type": "stream",
     "text": [
      "[nltk_data] Downloading package punkt to\n",
      "[nltk_data]     C:\\Users\\60130060\\AppData\\Roaming\\nltk_data...\n",
      "[nltk_data]   Package punkt is already up-to-date!\n"
     ]
    },
    {
     "data": {
      "text/plain": [
       "True"
      ]
     },
     "execution_count": 36,
     "metadata": {},
     "output_type": "execute_result"
    }
   ],
   "source": [
    "nltk.download('punkt')"
   ]
  },
  {
   "cell_type": "code",
   "execution_count": 37,
   "metadata": {},
   "outputs": [],
   "source": [
    "def divide_text(paths):\n",
    "    df = pd.DataFrame()\n",
    "    props = [5000, 15000, 8000, 11000, 20000, 3000]\n",
    "    min_symbols = 15\n",
    "    author_id = 0\n",
    "    for path in paths:\n",
    "        author = path.split('\\\\')[-1]\n",
    "        texts = glob.glob(path + '/*.txt' )\n",
    "        tokens = list()\n",
    "        for text in texts:\n",
    "            with codecs.open(text, 'r', 'utf-8') as txt:\n",
    "                doc = txt.read().replace('\\n', ' ')\n",
    "                for token in nltk.sent_tokenize(doc, language='russian'):\n",
    "                    if (len(token) >= min_symbols):\n",
    "                        tokens.append(token)\n",
    "        tokens = np.array(tokens)\n",
    "        tokens = np.random.choice(tokens, props[author_id])\n",
    "        df = pd.concat([df, pd.DataFrame(data={'sentence' : tokens, 'author' : author})])\n",
    "        author_id += 1\n",
    "    return df"
   ]
  },
  {
   "cell_type": "code",
   "execution_count": 38,
   "metadata": {},
   "outputs": [
    {
     "data": {
      "text/plain": [
       "15000"
      ]
     },
     "execution_count": 38,
     "metadata": {},
     "output_type": "execute_result"
    }
   ],
   "source": [
    "df = divide_text(text_paths)\n",
    "len(df[df['author'] == 'Bryusov'])"
   ]
  },
  {
   "cell_type": "markdown",
   "metadata": {},
   "source": [
    "*2. Preprocess*"
   ]
  },
  {
   "cell_type": "code",
   "execution_count": 39,
   "metadata": {},
   "outputs": [
    {
     "name": "stdout",
     "output_type": "stream",
     "text": [
      "Collecting ru-core-news-sm==3.4.0\n"
     ]
    },
    {
     "name": "stderr",
     "output_type": "stream",
     "text": [
      "  WARNING: Retrying (Retry(total=4, connect=None, read=None, redirect=None, status=None)) after connection broken by 'ReadTimeoutError(\"HTTPSConnectionPool(host='github.com', port=443): Read timed out. (read timeout=15)\")': /explosion/spacy-models/releases/download/ru_core_news_sm-3.4.0/ru_core_news_sm-3.4.0-py3-none-any.whl\n",
      "  WARNING: Retrying (Retry(total=3, connect=None, read=None, redirect=None, status=None)) after connection broken by 'ConnectTimeoutError(<pip._vendor.urllib3.connection.HTTPSConnection object at 0x0000028409F7AD90>, 'Connection to github.com timed out. (connect timeout=15)')': /explosion/spacy-models/releases/download/ru_core_news_sm-3.4.0/ru_core_news_sm-3.4.0-py3-none-any.whl\n",
      "  WARNING: Retrying (Retry(total=2, connect=None, read=None, redirect=None, status=None)) after connection broken by 'ConnectTimeoutError(<pip._vendor.urllib3.connection.HTTPSConnection object at 0x0000028409FA1100>, 'Connection to github.com timed out. (connect timeout=15)')': /explosion/spacy-models/releases/download/ru_core_news_sm-3.4.0/ru_core_news_sm-3.4.0-py3-none-any.whl\n",
      "  WARNING: Retrying (Retry(total=0, connect=None, read=None, redirect=None, status=None)) after connection broken by 'ReadTimeoutError(\"HTTPSConnectionPool(host='github.com', port=443): Read timed out. (read timeout=15)\")': /explosion/spacy-models/releases/download/ru_core_news_sm-3.4.0/ru_core_news_sm-3.4.0-py3-none-any.whl\n",
      "ERROR: Could not install packages due to an OSError: HTTPSConnectionPool(host='github.com', port=443): Max retries exceeded with url: /explosion/spacy-models/releases/download/ru_core_news_sm-3.4.0/ru_core_news_sm-3.4.0-py3-none-any.whl (Caused by ResponseError('too many 503 error responses'))\n",
      "\n"
     ]
    }
   ],
   "source": [
    "import spacy\n",
    "!python -m spacy download ru_core_news_sm\n",
    "import string\n",
    "\n",
    "def tokenize(df):\n",
    "    nlp = spacy.load('ru_core_news_sm')\n",
    "    stop_words = nltk.corpus.stopwords.words('russian')\n",
    "    part_to_remove = ['NUM', 'PUNCT']\n",
    "    all_new_tokens = list()\n",
    "    for index, row in df.iterrows():\n",
    "        doc = nlp(row['sentence'])\n",
    "        new_tokens = list()\n",
    "        for token in doc:\n",
    "            if token.pos_ not in part_to_remove and token.text not in stop_words and token.text not in string.punctuation and not token.text == '' and not token.text.isdigit():\n",
    "                new_tokens.append(token.lemma_.lower())\n",
    "        all_new_tokens.append(new_tokens)\n",
    "    df['tokens'] = all_new_tokens\n",
    "    return df"
   ]
  },
  {
   "cell_type": "code",
   "execution_count": 44,
   "metadata": {
    "scrolled": true
   },
   "outputs": [
    {
     "data": {
      "text/html": [
       "<div>\n",
       "<style scoped>\n",
       "    .dataframe tbody tr th:only-of-type {\n",
       "        vertical-align: middle;\n",
       "    }\n",
       "\n",
       "    .dataframe tbody tr th {\n",
       "        vertical-align: top;\n",
       "    }\n",
       "\n",
       "    .dataframe thead th {\n",
       "        text-align: right;\n",
       "    }\n",
       "</style>\n",
       "<table border=\"1\" class=\"dataframe\">\n",
       "  <thead>\n",
       "    <tr style=\"text-align: right;\">\n",
       "      <th></th>\n",
       "      <th>Unnamed: 0</th>\n",
       "      <th>sentence</th>\n",
       "      <th>author</th>\n",
       "      <th>tokens</th>\n",
       "    </tr>\n",
       "  </thead>\n",
       "  <tbody>\n",
       "    <tr>\n",
       "      <th>0</th>\n",
       "      <td>0</td>\n",
       "      <td>Все вообще возмутились.</td>\n",
       "      <td>Blok</td>\n",
       "      <td>[все, вообще, возмутиться]</td>\n",
       "    </tr>\n",
       "    <tr>\n",
       "      <th>1</th>\n",
       "      <td>1</td>\n",
       "      <td>Мимо проходят Магдалина с сосудом, Петр с ключ...</td>\n",
       "      <td>Blok</td>\n",
       "      <td>[мимо, проходить, магдалина, сосуд, пётр, ключ...</td>\n",
       "    </tr>\n",
       "    <tr>\n",
       "      <th>2</th>\n",
       "      <td>2</td>\n",
       "      <td>Это - те самые химерические уродцы, которые си...</td>\n",
       "      <td>Blok</td>\n",
       "      <td>[это, тот, самые, химерический, уродец, которы...</td>\n",
       "    </tr>\n",
       "    <tr>\n",
       "      <th>3</th>\n",
       "      <td>3</td>\n",
       "      <td>Если наклониться во ржи, чувствуешь себя в Рос...</td>\n",
       "      <td>Blok</td>\n",
       "      <td>[если, наклониться, ржи, чувствовать, россия, ...</td>\n",
       "    </tr>\n",
       "    <tr>\n",
       "      <th>4</th>\n",
       "      <td>4</td>\n",
       "      <td>Или столетняя старуха, когда-то прекрасная Бол...</td>\n",
       "      <td>Blok</td>\n",
       "      <td>[или, столетний, старуха, прекрасный, больдур,...</td>\n",
       "    </tr>\n",
       "  </tbody>\n",
       "</table>\n",
       "</div>"
      ],
      "text/plain": [
       "   Unnamed: 0                                           sentence author  \\\n",
       "0           0                            Все вообще возмутились.   Blok   \n",
       "1           1  Мимо проходят Магдалина с сосудом, Петр с ключ...   Blok   \n",
       "2           2  Это - те самые химерические уродцы, которые си...   Blok   \n",
       "3           3  Если наклониться во ржи, чувствуешь себя в Рос...   Blok   \n",
       "4           4  Или столетняя старуха, когда-то прекрасная Бол...   Blok   \n",
       "\n",
       "                                              tokens  \n",
       "0                         [все, вообще, возмутиться]  \n",
       "1  [мимо, проходить, магдалина, сосуд, пётр, ключ...  \n",
       "2  [это, тот, самые, химерический, уродец, которы...  \n",
       "3  [если, наклониться, ржи, чувствовать, россия, ...  \n",
       "4  [или, столетний, старуха, прекрасный, больдур,...  "
      ]
     },
     "execution_count": 44,
     "metadata": {},
     "output_type": "execute_result"
    }
   ],
   "source": [
    "df = tokenize(df)\n",
    "df.head()"
   ]
  },
  {
   "cell_type": "code",
   "execution_count": 45,
   "metadata": {},
   "outputs": [],
   "source": [
    "df.to_csv('./lit_tokenized.csv')"
   ]
  },
  {
   "cell_type": "code",
   "execution_count": 46,
   "metadata": {},
   "outputs": [
    {
     "data": {
      "text/html": [
       "<div>\n",
       "<style scoped>\n",
       "    .dataframe tbody tr th:only-of-type {\n",
       "        vertical-align: middle;\n",
       "    }\n",
       "\n",
       "    .dataframe tbody tr th {\n",
       "        vertical-align: top;\n",
       "    }\n",
       "\n",
       "    .dataframe thead th {\n",
       "        text-align: right;\n",
       "    }\n",
       "</style>\n",
       "<table border=\"1\" class=\"dataframe\">\n",
       "  <thead>\n",
       "    <tr style=\"text-align: right;\">\n",
       "      <th></th>\n",
       "      <th>Unnamed: 0</th>\n",
       "      <th>sentence</th>\n",
       "      <th>author</th>\n",
       "      <th>tokens</th>\n",
       "    </tr>\n",
       "  </thead>\n",
       "  <tbody>\n",
       "    <tr>\n",
       "      <th>0</th>\n",
       "      <td>0</td>\n",
       "      <td>Все вообще возмутились.</td>\n",
       "      <td>Blok</td>\n",
       "      <td>все вообще возмутиться</td>\n",
       "    </tr>\n",
       "    <tr>\n",
       "      <th>1</th>\n",
       "      <td>1</td>\n",
       "      <td>Мимо проходят Магдалина с сосудом, Петр с ключ...</td>\n",
       "      <td>Blok</td>\n",
       "      <td>мимо проходить магдалина сосуд пётр ключ салом...</td>\n",
       "    </tr>\n",
       "    <tr>\n",
       "      <th>2</th>\n",
       "      <td>2</td>\n",
       "      <td>Это - те самые химерические уродцы, которые си...</td>\n",
       "      <td>Blok</td>\n",
       "      <td>это тот самые химерический уродец которые сиде...</td>\n",
       "    </tr>\n",
       "    <tr>\n",
       "      <th>3</th>\n",
       "      <td>3</td>\n",
       "      <td>Если наклониться во ржи, чувствуешь себя в Рос...</td>\n",
       "      <td>Blok</td>\n",
       "      <td>если наклониться ржи чувствовать россия небо с...</td>\n",
       "    </tr>\n",
       "    <tr>\n",
       "      <th>4</th>\n",
       "      <td>4</td>\n",
       "      <td>Или столетняя старуха, когда-то прекрасная Бол...</td>\n",
       "      <td>Blok</td>\n",
       "      <td>или столетний старуха прекрасный больдур встре...</td>\n",
       "    </tr>\n",
       "  </tbody>\n",
       "</table>\n",
       "</div>"
      ],
      "text/plain": [
       "   Unnamed: 0                                           sentence author  \\\n",
       "0           0                            Все вообще возмутились.   Blok   \n",
       "1           1  Мимо проходят Магдалина с сосудом, Петр с ключ...   Blok   \n",
       "2           2  Это - те самые химерические уродцы, которые си...   Blok   \n",
       "3           3  Если наклониться во ржи, чувствуешь себя в Рос...   Blok   \n",
       "4           4  Или столетняя старуха, когда-то прекрасная Бол...   Blok   \n",
       "\n",
       "                                              tokens  \n",
       "0                             все вообще возмутиться  \n",
       "1  мимо проходить магдалина сосуд пётр ключ салом...  \n",
       "2  это тот самые химерический уродец которые сиде...  \n",
       "3  если наклониться ржи чувствовать россия небо с...  \n",
       "4  или столетний старуха прекрасный больдур встре...  "
      ]
     },
     "execution_count": 46,
     "metadata": {},
     "output_type": "execute_result"
    }
   ],
   "source": [
    "def reformat_tokens(row):\n",
    "    return ' '.join(row)\n",
    "\n",
    "df['tokens'] = df['tokens'].apply(reformat_tokens)\n",
    "df.head()"
   ]
  },
  {
   "cell_type": "code",
   "execution_count": 103,
   "metadata": {},
   "outputs": [],
   "source": [
    "from sklearn.feature_extraction.text import TfidfVectorizer, TfidfTransformer\n",
    "\n",
    "def vectorize_tfidf(corpus):\n",
    "    vectorizer = TfidfVectorizer(analyzer = 'word', max_features=1000)\n",
    "    data_vectorized = vectorizer.fit_transform(corpus)\n",
    "    return data_vectorized"
   ]
  },
  {
   "cell_type": "code",
   "execution_count": 104,
   "metadata": {},
   "outputs": [],
   "source": [
    "df['vector_tfidf'] = list(vectorize_tfidf(df['tokens']).toarray())"
   ]
  },
  {
   "cell_type": "code",
   "execution_count": 105,
   "metadata": {},
   "outputs": [
    {
     "data": {
      "text/plain": [
       "10798    [0.0, 0.0, 0.0, 0.0, 0.0, 0.0, 0.0, 0.0, 0.0, ...\n",
       "12387    [0.0, 0.0, 0.0, 0.0, 0.0, 0.0, 0.0, 0.0, 0.0, ...\n",
       "6477     [0.0, 0.0, 0.0, 0.0, 0.0, 0.0, 0.0, 0.25328542...\n",
       "17390    [0.0, 0.0, 0.0, 0.0, 0.0, 0.0, 0.0, 0.0, 0.0, ...\n",
       "7685     [0.33293012927495563, 0.0, 0.0, 0.0, 0.0, 0.0,...\n",
       "Name: vector_tfidf, dtype: object"
      ]
     },
     "execution_count": 105,
     "metadata": {},
     "output_type": "execute_result"
    }
   ],
   "source": [
    "df['vector_tfidf'].sample(5)"
   ]
  },
  {
   "cell_type": "code",
   "execution_count": 106,
   "metadata": {},
   "outputs": [],
   "source": [
    "from sklearn.feature_extraction.text import CountVectorizer\n",
    "\n",
    "def vectorize_bag_of_words(corpus):\n",
    "    vectorizer = CountVectorizer(analyzer = 'word', max_features=1000)\n",
    "    data_vectorized = vectorizer.fit_transform(corpus)\n",
    "    return data_vectorized"
   ]
  },
  {
   "cell_type": "code",
   "execution_count": 107,
   "metadata": {},
   "outputs": [],
   "source": [
    "df['vector_bag_of_words'] = list(vectorize_bag_of_words(df['tokens']).toarray())"
   ]
  },
  {
   "cell_type": "code",
   "execution_count": 108,
   "metadata": {
    "scrolled": true
   },
   "outputs": [
    {
     "data": {
      "text/plain": [
       "15697    [0, 0, 0, 0, 0, 0, 0, 0, 0, 0, 0, 0, 0, 0, 0, ...\n",
       "10102    [0, 0, 0, 0, 0, 0, 0, 0, 0, 0, 0, 0, 0, 0, 0, ...\n",
       "2278     [0, 0, 0, 0, 0, 0, 0, 0, 0, 0, 0, 0, 0, 0, 0, ...\n",
       "7822     [0, 0, 0, 0, 0, 0, 0, 0, 0, 0, 0, 0, 0, 0, 0, ...\n",
       "15961    [0, 0, 0, 0, 0, 0, 0, 0, 0, 0, 0, 0, 0, 0, 0, ...\n",
       "Name: vector_bag_of_words, dtype: object"
      ]
     },
     "execution_count": 108,
     "metadata": {},
     "output_type": "execute_result"
    }
   ],
   "source": [
    "df['vector_bag_of_words'].sample(5)"
   ]
  },
  {
   "cell_type": "code",
   "execution_count": null,
   "metadata": {
    "scrolled": true
   },
   "outputs": [],
   "source": [
    "df.to_csv('./lit_vectorized.csv')\n",
    "df.head()"
   ]
  },
  {
   "cell_type": "markdown",
   "metadata": {},
   "source": [
    "Для обоих методов мы указываем максимальное число фичей - это количество слов в нашем словаре. Не берем все слова, потому что по размеру не помещается в датасет)) Получается, что берем самые релевантные слова.\n",
    "\n",
    "Bag of words:\n",
    "\n",
    "Представляет собой вектор из количеств каждого слова в предложении. Например, 0го слова из нашего словаря содержится в предложении = 2 раза, 1го слова = 1 раз, 2го слова = 4 раза и т.д.\n",
    "\n",
    "Tf-idf:\n",
    "\n",
    "Представляет собой вектор из значений формулы tf-idf каждого слова в предложении. Формула: tf-idf = tf * log(1 / df)\n",
    "\n",
    "В обоих методах числа внутри вектора - это какое то абстрактное понятие \"значимости\" слова внутри текста. В bag of words это целочисленная метрика, а в tf-idf могут быть нецелые числа."
   ]
  },
  {
   "cell_type": "markdown",
   "metadata": {
    "id": "LuTi3rvnDvZL"
   },
   "source": [
    "###  Binary classification\n",
    "\n",
    "#### 8. [2 point] Train model using Logistic Regression (your own) and SVC (SVM can be taken from sklearn) \n",
    "\n",
    "* choose *two* authors from the dataset that you have formed in the previous task\n",
    "* check the balance of the classes\n",
    "* divide the data into train and test samples with 0.7 split rate (don't forget to fix the random state)\n",
    "* using GridSearchCV - find the best parameters for the models (by F1 score) and use it in the next tasks\n",
    "* make several plots to address the dependence between F1 score and parameters\n",
    "* plot confusion matrix for train and test samples\n",
    "* compute some relevant metrics for test sample (useful to check the seminars 5 and 6, use sklearn) \n",
    "* make conclusions about the performance of your models\n"
   ]
  },
  {
   "cell_type": "markdown",
   "metadata": {},
   "source": [
    "tf-idf vectors"
   ]
  },
  {
   "cell_type": "code",
   "execution_count": null,
   "metadata": {
    "id": "XZUP1HqFDvZL"
   },
   "outputs": [],
   "source": [
    "# Blok, Bryusov\n",
    "np.random.seed(42)\n",
    "df = df[(df['author'] == 'Blok') | (df['author'] == 'Bryusov')]\n",
    "X = df['vector_tfidf']\n",
    "y = df['author'].apply(lambda x : -1 if x == 'Blok' else 1)\n",
    "df['author'].value_counts()"
   ]
  },
  {
   "cell_type": "markdown",
   "metadata": {},
   "source": [
    "Классы несбалансированы из-за условия в пропорциях классов в предыдущем задании"
   ]
  },
  {
   "cell_type": "code",
   "execution_count": null,
   "metadata": {},
   "outputs": [],
   "source": [
    "# My own Logit\n",
    "from sklearn.svm import SVC\n",
    "from sklearn.model_selection import train_test_split\n",
    "from sklearn.model_selection import GridSearchCV\n",
    "\n",
    "X_train, X_test, y_train, y_test = train_test_split(X, y, train_size=0.7, random_state=42)\n",
    "print(X_train.dtype)\n",
    "parameters = {'beta': np.linspace(0.01, 1, 10),\\\n",
    "              'gamma': np.linspace(0.01, 1, 10)}\n",
    "\n",
    "clf = GridSearchCV(Logit(), parameters, scoring='f1', verbose=4)\n",
    "clf.fit(X_train, y_train)\n",
    "clf.best_params_, clf.best_score_"
   ]
  },
  {
   "cell_type": "code",
   "execution_count": null,
   "metadata": {},
   "outputs": [],
   "source": [
    "from sklearn.metrics import classification_report\n",
    "\n",
    "model = Logit(beta=clf.best_params_['beta'], gamma=clf.best_params_['gamma'])\n",
    "model.fit(X_train, y_train)\n",
    "\n",
    "print(\"train\", classification_report(y_train, model.predict(X_train)))\n",
    "print(\"test\", classification_report(y_test, model.predict(X_test)))"
   ]
  },
  {
   "cell_type": "code",
   "execution_count": null,
   "metadata": {
    "scrolled": true
   },
   "outputs": [],
   "source": [
    "# SVC\n",
    "from sklearn.svm import SVC\n",
    "from sklearn.model_selection import train_test_split\n",
    "from sklearn.model_selection import GridSearchCV\n",
    "\n",
    "X_train, X_test, y_train, y_test = train_test_split(X, y, train_size=0.7, random_state=42)\n",
    "    \n",
    "parameters = { \n",
    "                'kernel' : ('linear', 'poly', 'rbf'),\\\n",
    "                'C': np.linspace(0.01, 10, 10),\\\n",
    "                'gamma': np.linspace(0.01, 1, 10),\\\n",
    "                'degree': list(range(2, 6, 2))\n",
    "            }\n",
    "\n",
    "clf = GridSearchCV(SVC(), parameters, scoring='f1', verbose=4)\n",
    "clf.fit(X_train, y_train)\n",
    "clf.best_params_, clf.best_score_"
   ]
  },
  {
   "cell_type": "code",
   "execution_count": null,
   "metadata": {},
   "outputs": [],
   "source": [
    "from sklearn.metrics import classification_report\n",
    "\n",
    "model = SVC(kernel=clf.best_params_['kernel'], degree=clf.best_params_['degree'], gamma=clf.best_params_['gamma'])\n",
    "model.fit(X_train, y_train)\n",
    "\n",
    "print(\"train\", classification_report(y_train, model.predict(X_train)))\n",
    "print(\"test\", classification_report(y_test, model.predict(X_test)))"
   ]
  },
  {
   "cell_type": "markdown",
   "metadata": {},
   "source": [
    "Bag of words vectors"
   ]
  },
  {
   "cell_type": "code",
   "execution_count": null,
   "metadata": {},
   "outputs": [],
   "source": [
    "# Blok, Bryusov\n",
    "X = df['vector_bag_of_words']\n",
    "y = df['author'].apply(lambda x : -1 if x == 'Blok' else 1)"
   ]
  },
  {
   "cell_type": "code",
   "execution_count": null,
   "metadata": {},
   "outputs": [],
   "source": [
    "# My own Logit\n",
    "from sklearn.svm import SVC\n",
    "from sklearn.model_selection import train_test_split\n",
    "from sklearn.model_selection import GridSearchCV\n",
    "\n",
    "X_train, X_test, y_train, y_test = train_test_split(X, y, train_size=0.7, random_state=42)\n",
    "\n",
    "parameters = {'beta': np.linspace(0.01, 1, 10),\\\n",
    "              'gamma': np.linspace(0.01, 1, 10)}\n",
    "\n",
    "clf = GridSearchCV(Logit(), parameters, scoring='f1', verbose=4)\n",
    "clf.fit(X_train, y_train)\n",
    "clf.best_params_, clf.best_score_"
   ]
  },
  {
   "cell_type": "code",
   "execution_count": null,
   "metadata": {},
   "outputs": [],
   "source": [
    "from sklearn.metrics import classification_report\n",
    "\n",
    "model = Logit(beta=clf.best_params_['beta'], gamma=clf.best_params_['gamma'])\n",
    "model.fit(X_train, y_train)\n",
    "\n",
    "print(\"train\", classification_report(y_train, model.predict(X_train)))\n",
    "print(\"test\", classification_report(y_test, model.predict(X_test)))"
   ]
  },
  {
   "cell_type": "code",
   "execution_count": null,
   "metadata": {},
   "outputs": [],
   "source": [
    "# SVC\n",
    "from sklearn.svm import SVC\n",
    "from sklearn.model_selection import train_test_split\n",
    "from sklearn.model_selection import GridSearchCV\n",
    "\n",
    "X_train, X_test, y_train, y_test = train_test_split(X, y, train_size=0.7, random_state=42)\n",
    "    \n",
    "parameters = { \n",
    "                'kernel' : ('linear', 'poly', 'rbf'),\\\n",
    "                'C': np.linspace(0.01, 10, 10),\\\n",
    "                'gamma': np.linspace(0.01, 1, 10),\\\n",
    "                'degree': list(range(2, 6, 2))\n",
    "            }\n",
    "\n",
    "clf = GridSearchCV(SVC(), parameters, scoring='f1', verbose=4)\n",
    "clf.fit(X_train, y_train)\n",
    "clf.best_params_, clf.best_score_"
   ]
  },
  {
   "cell_type": "code",
   "execution_count": null,
   "metadata": {},
   "outputs": [],
   "source": [
    "from sklearn.metrics import classification_report\n",
    "\n",
    "model = SVC(kernel=clf.best_params_['kernel'], degree=clf.best_params_['degree'], gamma=clf.best_params_['gamma'])\n",
    "model.fit(X_train, y_train)\n",
    "\n",
    "print(\"train\", classification_report(y_train, model.predict(X_train)))\n",
    "print(\"test\", classification_report(y_test, model.predict(X_test)))"
   ]
  },
  {
   "cell_type": "markdown",
   "metadata": {},
   "source": [
    "Модель из SK-learn SVM показывает себя лучше, чем логистическая регрессия\n",
    "(В последний момент все упало но до этого работало :(((( )"
   ]
  },
  {
   "cell_type": "markdown",
   "metadata": {
    "id": "5G1kt0qbDvZL"
   },
   "source": [
    "#### 9. [1 point] Analysing ROC AUC\n",
    "\n",
    "It is possible to control the proportion of statistical errors of different types using different thresholds for choosing a class. Plot ROC curves for Logistic Regression and SVC, show the threshold on ROC curve plots. Choose such a threshold that your models have no more than 30% of false positive errors rate. Pay attention to `thresholds` parameter in sklearn roc_curve "
   ]
  },
  {
   "cell_type": "code",
   "execution_count": null,
   "metadata": {
    "id": "BZ2GZ8-uDvZL"
   },
   "outputs": [],
   "source": [
    "# your code here"
   ]
  },
  {
   "cell_type": "markdown",
   "metadata": {
    "id": "C-qubaK4DvZM"
   },
   "source": [
    "### Multiclass logit"
   ]
  },
  {
   "cell_type": "markdown",
   "metadata": {
    "id": "yJQone-LDvZM"
   },
   "source": [
    "#### 10. [1 point] Take the One-VS-One classifier (use sklearn) and apply to Logit model (one you've made in the 4th task) in order to get multiclass linear classifier\n",
    "\n",
    "<a href=\"https://scikit-learn.org/stable/modules/generated/sklearn.multiclass.OneVsOneClassifier.html\">OneVsOneClassifier</a>\n",
    "\n",
    "* use the data you got at the previous step for 6 authors\n",
    "* divide the data into train and test samples with 0.7 split rate\n",
    "* using GridSearchCV - find the best parameters for the models (by F1 score)\n",
    "* plot confusion matrix for train and test samples\n",
    "* compute all possible and relevant metrics for test sample (use sklearn)"
   ]
  },
  {
   "cell_type": "code",
   "execution_count": null,
   "metadata": {
    "id": "M4lR8qJ7DvZM"
   },
   "outputs": [],
   "source": [
    "# your code here"
   ]
  }
 ],
 "metadata": {
  "colab": {
   "collapsed_sections": [],
   "name": "HW3_v7.ipynb",
   "provenance": []
  },
  "kernelspec": {
   "display_name": "Python 3 (ipykernel)",
   "language": "python",
   "name": "python3"
  },
  "language_info": {
   "codemirror_mode": {
    "name": "ipython",
    "version": 3
   },
   "file_extension": ".py",
   "mimetype": "text/x-python",
   "name": "python",
   "nbconvert_exporter": "python",
   "pygments_lexer": "ipython3",
   "version": "3.10.4"
  }
 },
 "nbformat": 4,
 "nbformat_minor": 1
}
