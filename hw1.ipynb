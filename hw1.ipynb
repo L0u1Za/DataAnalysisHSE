{
 "cells": [
  {
   "cell_type": "markdown",
   "metadata": {},
   "source": [
    "# HSE 2022: Mathematical Methods for Data Analysis\n",
    "\n",
    "## Homework 1"
   ]
  },
  {
   "cell_type": "markdown",
   "metadata": {},
   "source": [
    "### Attention!\n",
    "* For tasks where <ins>text answer</ins> is required **Russian language** is **allowed**.\n",
    "* If a task asks you to describe something (make coclusions) then **text answer** is **mandatory** and **is** part of the task\n",
    "* **Do not** upload the dataset (titanic.csv) to the grading system (we already have it)\n",
    "* We **only** accept **ipynb** notebooks. If you use Google Colab then you'll have to download the notebook before passing the homework\n",
    "* **Do not** use python loops instead of NumPy vector operations over NumPy vectors - it significantly decreases performance (see why https://blog.paperspace.com/numpy-optimization-vectorization-and-broadcasting/), will be punished with -0.25 for **every** task. \n",
    "Loops are only allowed in part 1 (Tasks 1 - 4). \n",
    "* Some tasks contain tests. They only test you solution on a simple example, thus, passing the test does **not** guarantee you the full grade for the task. "
   ]
  },
  {
   "cell_type": "code",
   "execution_count": 1,
   "metadata": {},
   "outputs": [],
   "source": [
    "%matplotlib inline\n",
    "import numpy as np\n",
    "import pandas as pd\n",
    "import matplotlib.pyplot as plt\n",
    "import seaborn as sns"
   ]
  },
  {
   "cell_type": "markdown",
   "metadata": {},
   "source": [
    "# 1. Python (2 points) "
   ]
  },
  {
   "cell_type": "markdown",
   "metadata": {},
   "source": [
    "**Task 1** (0.5 points)<br/> \n",
    "Enter nonzero numbers `a`,  `r` and `N`. Find the first `N` members of geometric progression with the first member `a` and factor `r`, without using formula for the product."
   ]
  },
  {
   "cell_type": "code",
   "execution_count": 2,
   "metadata": {},
   "outputs": [
    {
     "name": "stdout",
     "output_type": "stream",
     "text": [
      "[2, 6, 18]\n"
     ]
    }
   ],
   "source": [
    "def find_product(a,r,N):\n",
    "    if N <= 0:\n",
    "        return []\n",
    "    arr_product = [a]\n",
    "    for i in range(N - 1):\n",
    "        arr_product.append(arr_product[-1] * r)\n",
    "    return arr_product\n",
    "\n",
    "a = 2\n",
    "r = 3\n",
    "N = 3\n",
    "print(find_product(a,r,N))"
   ]
  },
  {
   "cell_type": "markdown",
   "metadata": {},
   "source": [
    "**Task 2** (0.5 points) <br/> \n",
    "Enter an integer number `N`. Check if it is a palindrome number. It means that it can be read equally from left to right and from right to back. "
   ]
  },
  {
   "cell_type": "code",
   "execution_count": 3,
   "metadata": {},
   "outputs": [
    {
     "name": "stdout",
     "output_type": "stream",
     "text": [
      "3 True\n",
      "81 False\n",
      "111 True\n",
      "113 False\n",
      "810 False\n",
      "2022 False\n",
      "4774 True\n",
      "51315 True\n",
      "611816 False\n"
     ]
    }
   ],
   "source": [
    "def check_palindrome(N) -> bool:\n",
    "    str_n = str(N)\n",
    "    check_palindrome : bool = True\n",
    "    for i in range(len(str_n) // 2):\n",
    "        check_palindrome &= (str_n[i] == str_n[-i - 1])\n",
    "    return check_palindrome\n",
    "\n",
    "for N in [3, 81, 111, 113, 810, 2022, 4774, 51315, 611816]:\n",
    "    print(N, check_palindrome(N))"
   ]
  },
  {
   "cell_type": "markdown",
   "metadata": {},
   "source": [
    "**Task 3** (0.5 points) <br/> \n",
    "Find the first `N` palindrome numbers starting from 1000 (you may use the function from the precious task)."
   ]
  },
  {
   "cell_type": "code",
   "execution_count": 4,
   "metadata": {},
   "outputs": [
    {
     "name": "stdout",
     "output_type": "stream",
     "text": [
      "[1001, 1111, 1221, 1331, 1441]\n",
      "[1001, 1111, 1221, 1331, 1441, 1551, 1661, 1771, 1881, 1991]\n",
      "[1001, 1111, 1221, 1331, 1441, 1551, 1661, 1771, 1881, 1991, 2002, 2112, 2222, 2332, 2442, 2552, 2662, 2772, 2882, 2992]\n"
     ]
    }
   ],
   "source": [
    "def find_palindromes(N):\n",
    "    palindromes = []\n",
    "    last = 1000\n",
    "    while(len(palindromes) < N):\n",
    "        if (check_palindrome(last)):\n",
    "            palindromes.append(last)\n",
    "        last += 1\n",
    "    return palindromes\n",
    "\n",
    "print(find_palindromes(5))\n",
    "print(find_palindromes(10))\n",
    "print(find_palindromes(20))"
   ]
  },
  {
   "cell_type": "markdown",
   "metadata": {},
   "source": [
    "**Task 4** (0.5 points) <br/> \n",
    "There are numbers: `a`, `b`, `c`. Without using functions `min`, `max` and other functions, find the minimum number."
   ]
  },
  {
   "cell_type": "code",
   "execution_count": 5,
   "metadata": {},
   "outputs": [
    {
     "name": "stdout",
     "output_type": "stream",
     "text": [
      "-99 -44 -15 \tMinimum: -99\n",
      "87 5 36 \tMinimum: 5\n",
      "51 -37 -37 \tMinimum: -37\n",
      "93 -33 -53 \tMinimum: -53\n",
      "-73 -33 -35 \tMinimum: -73\n",
      "-99 70 26 \tMinimum: -99\n",
      "70 -8 -51 \tMinimum: -51\n",
      "24 -42 -95 \tMinimum: -95\n",
      "-43 -34 46 \tMinimum: -43\n",
      "-16 30 22 \tMinimum: -16\n"
     ]
    }
   ],
   "source": [
    "from random import randint\n",
    "def find_min(a, b, c):\n",
    "    min_ = a\n",
    "    min_ = b if b < min_ else min_\n",
    "    min_ = c if c < min_ else min_\n",
    "    return min_\n",
    "\n",
    "for i in range(10):\n",
    "    \n",
    "    a = randint(-100, 100)\n",
    "    b = randint(-100, 100)\n",
    "    c = randint(-100, 100)\n",
    "    \n",
    "    print(a, b, c, '\\tMinimum:', find_min(a, b, c))"
   ]
  },
  {
   "cell_type": "markdown",
   "metadata": {},
   "source": [
    "# 2. Numpy (4 points)"
   ]
  },
  {
   "cell_type": "markdown",
   "metadata": {},
   "source": [
    "**Task 1** (0.5 points) <br/>\n",
    "Create a random array (`np.random.rand()`) with length of 17 and with sum of its elements equals to 6."
   ]
  },
  {
   "cell_type": "code",
   "execution_count": 6,
   "metadata": {},
   "outputs": [
    {
     "name": "stdout",
     "output_type": "stream",
     "text": [
      "Length: 17\n",
      "Sum of elements: 5.999999999999999\n"
     ]
    }
   ],
   "source": [
    "my_array = np.random.rand(17)\n",
    "my_array = my_array / np.sum(my_array) * 6\n",
    "print(f'Length: {len(my_array)}')\n",
    "print(f'Sum of elements: {np.sum(my_array)}')"
   ]
  },
  {
   "cell_type": "markdown",
   "metadata": {},
   "source": [
    "**Task 2** (0.5 points) <br/>\n",
    "Create two random arrays $a$ and $b$ with the same length. \n",
    "\n",
    "Calculate the following distances between the arrays **without using special funcrion. You may only use basic numpy operations (`np.linalg.*` and other high-level ones are prohibited).**:\n",
    "\n",
    "* Manhattan Distance\n",
    "$$ d(a, b) = \\sum_i |a_i - b_i| $$\n",
    "* Euclidean Distance\n",
    "$$ d(a, b) = \\sqrt{\\sum_i (a_i - b_i)^2} $$\n",
    "* Chebyshev Distance\n",
    "$$ d(a, b) = \\underset{i}{max} |a_i - b_i| $$\n",
    "* Cosine Distance\n",
    "$$ d(a, b) = 1 - \\frac{a^\\top b}{||a||_2\\cdot||b||_2} $$\n"
   ]
  },
  {
   "cell_type": "code",
   "execution_count": 7,
   "metadata": {},
   "outputs": [],
   "source": [
    "def calculate_manhattan(a, b):    \n",
    "    distance = np.sum(np.absolute(a - b))\n",
    "    return distance\n",
    "\n",
    "def calculate_euclidean(a, b):    \n",
    "    distance = np.sqrt(np.sum((a - b) * (a - b)))\n",
    "    return distance\n",
    "\n",
    "def calculate_chebyshev(a, b):    \n",
    "    distance = np.amax(np.absolute(a - b))\n",
    "    return distance\n",
    "\n",
    "def calculate_cosine(a, b):    \n",
    "    distance = 1 - (a.T.dot(b)) / (calculate_euclidean(0, a) * calculate_euclidean(0, b))\n",
    "    return distance"
   ]
  },
  {
   "cell_type": "code",
   "execution_count": 8,
   "metadata": {},
   "outputs": [
    {
     "name": "stdout",
     "output_type": "stream",
     "text": [
      "Manhattan distance: 10.179285386479265\n",
      "Euclidean distance: 2.2336389848987874\n",
      "Chebyshev distance: 0.9784121340988283\n",
      "Cosine distance: 0.24629416920452207\n"
     ]
    }
   ],
   "source": [
    "n = 30\n",
    "a = np.random.rand(n)\n",
    "b = np.random.rand(n)\n",
    "print(f'Manhattan distance: {calculate_manhattan(a, b)}')\n",
    "print(f'Euclidean distance: {calculate_euclidean(a, b)}')\n",
    "print(f'Chebyshev distance: {calculate_chebyshev(a, b)}')\n",
    "print(f'Cosine distance: {calculate_cosine(a, b)}')"
   ]
  },
  {
   "cell_type": "markdown",
   "metadata": {},
   "source": [
    "**Task 3** (0.5 points) <br/>\n",
    "Create a random array (`np.random.randint()`) with length of 76. Transform the array so that \n",
    "* Maximum element(s) value is -1\n",
    "* Minimum element(s) value is -4\n",
    "* Other values are in interval (-4; -1) with keeping the order"
   ]
  },
  {
   "cell_type": "code",
   "execution_count": 9,
   "metadata": {},
   "outputs": [],
   "source": [
    "def transform(array):\n",
    "    transformed_array = array - np.min(array)\n",
    "    transformed_array /= np.max(transformed_array)\n",
    "    transformed_array *= 3\n",
    "    transformed_array -= 4\n",
    "    return transformed_array"
   ]
  },
  {
   "cell_type": "code",
   "execution_count": 10,
   "metadata": {},
   "outputs": [
    {
     "name": "stdout",
     "output_type": "stream",
     "text": [
      "Min: -4.0\n",
      "Max: -1.0\n",
      "Array:\n",
      "[-1.24415614 -1.79514605 -3.71366763 -3.41967795 -3.26894747 -1.98795442\n",
      " -3.63096248 -3.28756782 -1.88810474 -1.         -1.54069111 -3.19348208\n",
      " -3.33567043 -3.06639883 -1.86016429 -3.17140986 -3.82490275 -1.2557273\n",
      " -3.79619351 -1.54324202 -1.20572526 -2.01318082 -3.86723622 -3.83309145\n",
      " -2.90665827 -1.64045108 -1.31174325 -2.09397355 -3.92431227 -1.78265347\n",
      " -2.35602089 -3.30935333 -3.86540641 -2.77633576 -2.3664539  -3.03654993\n",
      " -2.42065475 -2.23079288 -1.65229309 -2.35784438 -1.0898693  -4.\n",
      " -2.85752472 -2.0495928  -3.01468518 -1.05761565 -1.21587925 -2.14663677\n",
      " -2.24833359 -3.88950601 -1.14275595 -3.05025082 -3.43623089 -3.55387168\n",
      " -2.59458267 -3.03956341 -3.88511769 -3.90572745 -2.32553066 -2.33976068\n",
      " -3.68304451 -2.73804404 -1.79662811 -1.63351085 -3.7026886  -2.63717499\n",
      " -3.04615795 -3.93170152 -2.93620918 -2.28793679 -1.72378554 -3.42378789\n",
      " -1.4035533  -1.77743838 -2.20434656 -1.4953694 ]\n"
     ]
    }
   ],
   "source": [
    "my_array = np.random.rand(76)\n",
    "my_array = transform(my_array)\n",
    "print(f'Min: {np.min(my_array)}')\n",
    "print(f'Max: {np.max(my_array)}')\n",
    "print('Array:')\n",
    "print(my_array)"
   ]
  },
  {
   "cell_type": "markdown",
   "metadata": {},
   "source": [
    "**Task 4** (0.5 points) <br/>\n",
    "Create an array with shape of $8 \\times 5$ with integers from [-7, 43]. Print a column that contains the maximum element of the array."
   ]
  },
  {
   "cell_type": "code",
   "execution_count": 11,
   "metadata": {},
   "outputs": [
    {
     "name": "stdout",
     "output_type": "stream",
     "text": [
      "Shape:  (8, 5)\n",
      "Array:\n",
      "[[15 19 -3 12 23]\n",
      " [16 -2 15  3 35]\n",
      " [25 29 16 15 29]\n",
      " [30 23  6 39 17]\n",
      " [42 -3 42  8 28]\n",
      " [15 35 -1 -3 19]\n",
      " [22 14 39 14 36]\n",
      " [13 41 31 11 27]]\n",
      "Selected column: [15 16 25 30 42 15 22 13]\n"
     ]
    }
   ],
   "source": [
    "my_array = np.random.randint(-7, 43, size=(8, 5))\n",
    "selected_column = my_array[:, np.argmax(np.max(my_array, axis=0))]\n",
    "print('Shape: ', my_array.shape)\n",
    "print('Array:')\n",
    "print(my_array)\n",
    "print(f'Selected column: {selected_column}')"
   ]
  },
  {
   "cell_type": "markdown",
   "metadata": {},
   "source": [
    "**Task 5** (0.5 points) <br/>\n",
    "\n",
    "Replace all missing values in the following array with median."
   ]
  },
  {
   "cell_type": "code",
   "execution_count": 12,
   "metadata": {},
   "outputs": [
    {
     "name": "stdout",
     "output_type": "stream",
     "text": [
      "Array:\n",
      "[0.45249646 0.45825796        nan 0.25571006 0.34064779 0.26617761\n",
      "        nan        nan        nan 0.61346905]\n"
     ]
    }
   ],
   "source": [
    "arr = np.random.rand(10)\n",
    "idx = np.random.randint(0, 10, 4)\n",
    "arr[idx] = np.nan\n",
    "\n",
    "print('Array:')\n",
    "print(arr)"
   ]
  },
  {
   "cell_type": "code",
   "execution_count": 13,
   "metadata": {},
   "outputs": [],
   "source": [
    "def replace_missing(arr):\n",
    "    median = np.median(arr[~np.isnan(arr)])\n",
    "    array_without_missing = np.nan_to_num(arr, nan=median)\n",
    "    return array_without_missing"
   ]
  },
  {
   "cell_type": "code",
   "execution_count": 14,
   "metadata": {},
   "outputs": [
    {
     "name": "stdout",
     "output_type": "stream",
     "text": [
      "Array with no missing values:\n",
      "[0.45249646 0.45825796 0.39657213 0.25571006 0.34064779 0.26617761\n",
      " 0.39657213 0.39657213 0.39657213 0.61346905]\n"
     ]
    }
   ],
   "source": [
    "arr = replace_missing(arr)\n",
    "print('Array with no missing values:')\n",
    "print(arr)"
   ]
  },
  {
   "cell_type": "markdown",
   "metadata": {},
   "source": [
    "**Task 6** (0.5 points) <br/>\n",
    "Create a function which takes an image ```X``` (3D array of the shape (n, m, 3)) as an input and returns the mean for all 3 channels (a vector of shape 3)."
   ]
  },
  {
   "cell_type": "code",
   "execution_count": 15,
   "metadata": {},
   "outputs": [],
   "source": [
    "def mean_channel(X):\n",
    "    mean_vector = np.mean(np.mean(X, axis=1), axis=0)\n",
    "    return mean_vector"
   ]
  },
  {
   "cell_type": "code",
   "execution_count": 16,
   "metadata": {},
   "outputs": [
    {
     "name": "stdout",
     "output_type": "stream",
     "text": [
      "Vector of means: [-2.26773455 -2.4805492  -1.91304348]\n"
     ]
    }
   ],
   "source": [
    "n = 19\n",
    "m = 23\n",
    "X =  np.random.randint(-11, 8, size=(n, m, 3))\n",
    "print(f'Vector of means: {mean_channel(X)}')"
   ]
  },
  {
   "cell_type": "markdown",
   "metadata": {},
   "source": [
    "### **Task 7** (1 points) <br/>\n",
    "Create a function which takes a 3D matrix ```X``` as an input and returns all its unique vertical (first axis) layers.\n",
    "\n",
    "Sample input:\n",
    "\n",
    "     ([[[1, 2, 3],\n",
    "        [1, 2, 3],\n",
    "        [1, 2, 3]],\n",
    "\n",
    "       [[4, 5, 6],\n",
    "        [4, 5, 7]\n",
    "        [4, 5, 6]],\n",
    "\n",
    "       [[7, 8, 9],\n",
    "        [7, 8, 9]\n",
    "        [7, 8, 9]]])\n",
    "        \n",
    "Sample output:\n",
    "\n",
    "     ([[[1, 2, 3],\n",
    "        [1, 2, 3]],\n",
    "\n",
    "       [[4, 5, 6],\n",
    "        [4, 5, 7]],\n",
    "\n",
    "       [[7, 8, 9],\n",
    "        [7, 8, 9]]])"
   ]
  },
  {
   "cell_type": "code",
   "execution_count": 17,
   "metadata": {},
   "outputs": [],
   "source": [
    "def get_unique_columns(X):\n",
    "    X_unique = np.unique(X, axis=1)\n",
    "    return X_unique"
   ]
  },
  {
   "cell_type": "code",
   "execution_count": 18,
   "metadata": {},
   "outputs": [
    {
     "name": "stdout",
     "output_type": "stream",
     "text": [
      "Matrix:\n",
      "[[[4 4 5]\n",
      "  [4 5 4]\n",
      "  [5 4 5]]\n",
      "\n",
      " [[5 5 5]\n",
      "  [4 4 4]\n",
      "  [5 4 5]]\n",
      "\n",
      " [[5 4 5]\n",
      "  [4 5 4]\n",
      "  [5 5 5]]\n",
      "\n",
      " [[5 5 5]\n",
      "  [4 5 5]\n",
      "  [4 5 4]]\n",
      "\n",
      " [[5 4 4]\n",
      "  [4 4 4]\n",
      "  [4 5 4]]\n",
      "\n",
      " [[4 5 5]\n",
      "  [4 5 5]\n",
      "  [4 4 5]]\n",
      "\n",
      " [[4 4 5]\n",
      "  [5 5 4]\n",
      "  [5 4 4]]\n",
      "\n",
      " [[5 4 5]\n",
      "  [5 4 4]\n",
      "  [5 4 4]]\n",
      "\n",
      " [[4 5 4]\n",
      "  [5 4 4]\n",
      "  [5 5 4]]\n",
      "\n",
      " [[4 5 5]\n",
      "  [5 4 5]\n",
      "  [5 5 4]]\n",
      "\n",
      " [[5 4 4]\n",
      "  [4 5 5]\n",
      "  [5 4 4]]\n",
      "\n",
      " [[5 4 4]\n",
      "  [5 5 5]\n",
      "  [5 5 4]]\n",
      "\n",
      " [[4 4 4]\n",
      "  [5 4 4]\n",
      "  [5 4 5]]\n",
      "\n",
      " [[4 4 4]\n",
      "  [4 5 5]\n",
      "  [5 5 5]]\n",
      "\n",
      " [[4 4 4]\n",
      "  [4 5 5]\n",
      "  [4 4 5]]\n",
      "\n",
      " [[5 5 4]\n",
      "  [4 4 4]\n",
      "  [5 5 5]]\n",
      "\n",
      " [[4 4 4]\n",
      "  [5 5 5]\n",
      "  [5 4 4]]\n",
      "\n",
      " [[4 5 4]\n",
      "  [4 4 4]\n",
      "  [5 4 4]]\n",
      "\n",
      " [[5 4 5]\n",
      "  [4 4 5]\n",
      "  [5 4 4]]]\n",
      "Unique columns:\n"
     ]
    },
    {
     "data": {
      "text/plain": [
       "array([[[4, 4, 5],\n",
       "        [4, 5, 4],\n",
       "        [5, 4, 5]],\n",
       "\n",
       "       [[5, 5, 5],\n",
       "        [4, 4, 4],\n",
       "        [5, 4, 5]],\n",
       "\n",
       "       [[5, 4, 5],\n",
       "        [4, 5, 4],\n",
       "        [5, 5, 5]],\n",
       "\n",
       "       [[5, 5, 5],\n",
       "        [4, 5, 5],\n",
       "        [4, 5, 4]],\n",
       "\n",
       "       [[5, 4, 4],\n",
       "        [4, 4, 4],\n",
       "        [4, 5, 4]],\n",
       "\n",
       "       [[4, 5, 5],\n",
       "        [4, 5, 5],\n",
       "        [4, 4, 5]],\n",
       "\n",
       "       [[4, 4, 5],\n",
       "        [5, 5, 4],\n",
       "        [5, 4, 4]],\n",
       "\n",
       "       [[5, 4, 5],\n",
       "        [5, 4, 4],\n",
       "        [5, 4, 4]],\n",
       "\n",
       "       [[4, 5, 4],\n",
       "        [5, 4, 4],\n",
       "        [5, 5, 4]],\n",
       "\n",
       "       [[4, 5, 5],\n",
       "        [5, 4, 5],\n",
       "        [5, 5, 4]],\n",
       "\n",
       "       [[5, 4, 4],\n",
       "        [4, 5, 5],\n",
       "        [5, 4, 4]],\n",
       "\n",
       "       [[5, 4, 4],\n",
       "        [5, 5, 5],\n",
       "        [5, 5, 4]],\n",
       "\n",
       "       [[4, 4, 4],\n",
       "        [5, 4, 4],\n",
       "        [5, 4, 5]],\n",
       "\n",
       "       [[4, 4, 4],\n",
       "        [4, 5, 5],\n",
       "        [5, 5, 5]],\n",
       "\n",
       "       [[4, 4, 4],\n",
       "        [4, 5, 5],\n",
       "        [4, 4, 5]],\n",
       "\n",
       "       [[5, 5, 4],\n",
       "        [4, 4, 4],\n",
       "        [5, 5, 5]],\n",
       "\n",
       "       [[4, 4, 4],\n",
       "        [5, 5, 5],\n",
       "        [5, 4, 4]],\n",
       "\n",
       "       [[4, 5, 4],\n",
       "        [4, 4, 4],\n",
       "        [5, 4, 4]],\n",
       "\n",
       "       [[5, 4, 5],\n",
       "        [4, 4, 5],\n",
       "        [5, 4, 4]]])"
      ]
     },
     "execution_count": 18,
     "metadata": {},
     "output_type": "execute_result"
    }
   ],
   "source": [
    "X =  np.random.randint(4, 6, size=(n, 3, 3))\n",
    "print('Matrix:')\n",
    "print(X)\n",
    "print('Unique columns:')\n",
    "get_unique_columns(X)"
   ]
  },
  {
   "cell_type": "markdown",
   "metadata": {},
   "source": [
    "# 3. Pandas & Visualization (4 points)\n"
   ]
  },
  {
   "cell_type": "markdown",
   "metadata": {},
   "source": [
    "You are going to work with *Titanic* dataset which contains information about passengers of Titanic:\n",
    "- **Survived** - 1 - survived, 0 - died (0); **Target variable**\n",
    "- **pclass** - passengers's class;\n",
    "- **sex** - passengers's sex\n",
    "- **Age** - passengers's age in years\n",
    "- **sibsp**    - is the passenger someones siblings   \n",
    "- **parch**    - is the passenger someones child or parent\n",
    "- **ticket** - ticket number    \n",
    "- **fare** - ticket price    \n",
    "- **cabin** - cabin number\n",
    "- **embarked** - port of Embarkation; C = Cherbourg, Q = Queenstown, S = Southampton\n",
    "\n",
    "**Note** for all visualizations use matplotlib or seaborn but NOT plotly! Plotly's graphics sometimes vanish after saving. In this case the task wont't be graded.\n",
    "\n",
    "**Note** support all your answers with necessary code, computations, vizualization, and explanation. Answers without code and explanation won't be graded.\n",
    "\n",
    "**Task 0** (0 points) \\\n",
    "Load the dataset and print first 5 rows"
   ]
  },
  {
   "cell_type": "code",
   "execution_count": 19,
   "metadata": {},
   "outputs": [
    {
     "data": {
      "text/html": [
       "<div>\n",
       "<style scoped>\n",
       "    .dataframe tbody tr th:only-of-type {\n",
       "        vertical-align: middle;\n",
       "    }\n",
       "\n",
       "    .dataframe tbody tr th {\n",
       "        vertical-align: top;\n",
       "    }\n",
       "\n",
       "    .dataframe thead th {\n",
       "        text-align: right;\n",
       "    }\n",
       "</style>\n",
       "<table border=\"1\" class=\"dataframe\">\n",
       "  <thead>\n",
       "    <tr style=\"text-align: right;\">\n",
       "      <th></th>\n",
       "      <th>PassengerId</th>\n",
       "      <th>Survived</th>\n",
       "      <th>Pclass</th>\n",
       "      <th>Name</th>\n",
       "      <th>Sex</th>\n",
       "      <th>Age</th>\n",
       "      <th>SibSp</th>\n",
       "      <th>Parch</th>\n",
       "      <th>Ticket</th>\n",
       "      <th>Fare</th>\n",
       "      <th>Cabin</th>\n",
       "      <th>Embarked</th>\n",
       "    </tr>\n",
       "  </thead>\n",
       "  <tbody>\n",
       "    <tr>\n",
       "      <th>0</th>\n",
       "      <td>1</td>\n",
       "      <td>0</td>\n",
       "      <td>3</td>\n",
       "      <td>Braund, Mr. Owen Harris</td>\n",
       "      <td>male</td>\n",
       "      <td>22.0</td>\n",
       "      <td>1</td>\n",
       "      <td>0</td>\n",
       "      <td>A/5 21171</td>\n",
       "      <td>7.2500</td>\n",
       "      <td>NaN</td>\n",
       "      <td>S</td>\n",
       "    </tr>\n",
       "    <tr>\n",
       "      <th>1</th>\n",
       "      <td>2</td>\n",
       "      <td>1</td>\n",
       "      <td>1</td>\n",
       "      <td>Cumings, Mrs. John Bradley (Florence Briggs Th...</td>\n",
       "      <td>female</td>\n",
       "      <td>38.0</td>\n",
       "      <td>1</td>\n",
       "      <td>0</td>\n",
       "      <td>PC 17599</td>\n",
       "      <td>71.2833</td>\n",
       "      <td>C85</td>\n",
       "      <td>C</td>\n",
       "    </tr>\n",
       "    <tr>\n",
       "      <th>2</th>\n",
       "      <td>3</td>\n",
       "      <td>1</td>\n",
       "      <td>3</td>\n",
       "      <td>Heikkinen, Miss. Laina</td>\n",
       "      <td>female</td>\n",
       "      <td>26.0</td>\n",
       "      <td>0</td>\n",
       "      <td>0</td>\n",
       "      <td>STON/O2. 3101282</td>\n",
       "      <td>7.9250</td>\n",
       "      <td>NaN</td>\n",
       "      <td>S</td>\n",
       "    </tr>\n",
       "    <tr>\n",
       "      <th>3</th>\n",
       "      <td>4</td>\n",
       "      <td>1</td>\n",
       "      <td>1</td>\n",
       "      <td>Futrelle, Mrs. Jacques Heath (Lily May Peel)</td>\n",
       "      <td>female</td>\n",
       "      <td>35.0</td>\n",
       "      <td>1</td>\n",
       "      <td>0</td>\n",
       "      <td>113803</td>\n",
       "      <td>53.1000</td>\n",
       "      <td>C123</td>\n",
       "      <td>S</td>\n",
       "    </tr>\n",
       "    <tr>\n",
       "      <th>4</th>\n",
       "      <td>5</td>\n",
       "      <td>0</td>\n",
       "      <td>3</td>\n",
       "      <td>Allen, Mr. William Henry</td>\n",
       "      <td>male</td>\n",
       "      <td>35.0</td>\n",
       "      <td>0</td>\n",
       "      <td>0</td>\n",
       "      <td>373450</td>\n",
       "      <td>8.0500</td>\n",
       "      <td>NaN</td>\n",
       "      <td>S</td>\n",
       "    </tr>\n",
       "  </tbody>\n",
       "</table>\n",
       "</div>"
      ],
      "text/plain": [
       "   PassengerId  Survived  Pclass  \\\n",
       "0            1         0       3   \n",
       "1            2         1       1   \n",
       "2            3         1       3   \n",
       "3            4         1       1   \n",
       "4            5         0       3   \n",
       "\n",
       "                                                Name     Sex   Age  SibSp  \\\n",
       "0                            Braund, Mr. Owen Harris    male  22.0      1   \n",
       "1  Cumings, Mrs. John Bradley (Florence Briggs Th...  female  38.0      1   \n",
       "2                             Heikkinen, Miss. Laina  female  26.0      0   \n",
       "3       Futrelle, Mrs. Jacques Heath (Lily May Peel)  female  35.0      1   \n",
       "4                           Allen, Mr. William Henry    male  35.0      0   \n",
       "\n",
       "   Parch            Ticket     Fare Cabin Embarked  \n",
       "0      0         A/5 21171   7.2500   NaN        S  \n",
       "1      0          PC 17599  71.2833   C85        C  \n",
       "2      0  STON/O2. 3101282   7.9250   NaN        S  \n",
       "3      0            113803  53.1000  C123        S  \n",
       "4      0            373450   8.0500   NaN        S  "
      ]
     },
     "execution_count": 19,
     "metadata": {},
     "output_type": "execute_result"
    }
   ],
   "source": [
    "dataset =  pd.read_csv('titanic.csv')\n",
    "dataset.head(5)"
   ]
  },
  {
   "cell_type": "markdown",
   "metadata": {},
   "source": [
    "**Task 1** (1 points) <br/>\n",
    "Answer the following questions:\n",
    "    \n",
    "    * Are there any missing values? In what columns?\n",
    "    * What is the percentage of survived passengers? Are the classes balanced?\n",
    "    * Were there more males or females?\n",
    "    * What what the least popular port of embarkation?\n",
    "    * How many classes (pclass) were there on Tinanic?\n",
    "    * What is the overall average ticket fare? And for every class?\n",
    "Please, write not only the answers but the code, proving it."
   ]
  },
  {
   "cell_type": "markdown",
   "metadata": {},
   "source": [
    "## Полная таблица пропусков"
   ]
  },
  {
   "cell_type": "code",
   "execution_count": 20,
   "metadata": {},
   "outputs": [
    {
     "data": {
      "text/html": [
       "<div>\n",
       "<style scoped>\n",
       "    .dataframe tbody tr th:only-of-type {\n",
       "        vertical-align: middle;\n",
       "    }\n",
       "\n",
       "    .dataframe tbody tr th {\n",
       "        vertical-align: top;\n",
       "    }\n",
       "\n",
       "    .dataframe thead th {\n",
       "        text-align: right;\n",
       "    }\n",
       "</style>\n",
       "<table border=\"1\" class=\"dataframe\">\n",
       "  <thead>\n",
       "    <tr style=\"text-align: right;\">\n",
       "      <th></th>\n",
       "      <th>PassengerId</th>\n",
       "      <th>Survived</th>\n",
       "      <th>Pclass</th>\n",
       "      <th>Name</th>\n",
       "      <th>Sex</th>\n",
       "      <th>Age</th>\n",
       "      <th>SibSp</th>\n",
       "      <th>Parch</th>\n",
       "      <th>Ticket</th>\n",
       "      <th>Fare</th>\n",
       "      <th>Cabin</th>\n",
       "      <th>Embarked</th>\n",
       "    </tr>\n",
       "  </thead>\n",
       "  <tbody>\n",
       "    <tr>\n",
       "      <th>0</th>\n",
       "      <td>False</td>\n",
       "      <td>False</td>\n",
       "      <td>False</td>\n",
       "      <td>False</td>\n",
       "      <td>False</td>\n",
       "      <td>False</td>\n",
       "      <td>False</td>\n",
       "      <td>False</td>\n",
       "      <td>False</td>\n",
       "      <td>False</td>\n",
       "      <td>True</td>\n",
       "      <td>False</td>\n",
       "    </tr>\n",
       "    <tr>\n",
       "      <th>1</th>\n",
       "      <td>False</td>\n",
       "      <td>False</td>\n",
       "      <td>False</td>\n",
       "      <td>False</td>\n",
       "      <td>False</td>\n",
       "      <td>False</td>\n",
       "      <td>False</td>\n",
       "      <td>False</td>\n",
       "      <td>False</td>\n",
       "      <td>False</td>\n",
       "      <td>False</td>\n",
       "      <td>False</td>\n",
       "    </tr>\n",
       "    <tr>\n",
       "      <th>2</th>\n",
       "      <td>False</td>\n",
       "      <td>False</td>\n",
       "      <td>False</td>\n",
       "      <td>False</td>\n",
       "      <td>False</td>\n",
       "      <td>False</td>\n",
       "      <td>False</td>\n",
       "      <td>False</td>\n",
       "      <td>False</td>\n",
       "      <td>False</td>\n",
       "      <td>True</td>\n",
       "      <td>False</td>\n",
       "    </tr>\n",
       "    <tr>\n",
       "      <th>3</th>\n",
       "      <td>False</td>\n",
       "      <td>False</td>\n",
       "      <td>False</td>\n",
       "      <td>False</td>\n",
       "      <td>False</td>\n",
       "      <td>False</td>\n",
       "      <td>False</td>\n",
       "      <td>False</td>\n",
       "      <td>False</td>\n",
       "      <td>False</td>\n",
       "      <td>False</td>\n",
       "      <td>False</td>\n",
       "    </tr>\n",
       "    <tr>\n",
       "      <th>4</th>\n",
       "      <td>False</td>\n",
       "      <td>False</td>\n",
       "      <td>False</td>\n",
       "      <td>False</td>\n",
       "      <td>False</td>\n",
       "      <td>False</td>\n",
       "      <td>False</td>\n",
       "      <td>False</td>\n",
       "      <td>False</td>\n",
       "      <td>False</td>\n",
       "      <td>True</td>\n",
       "      <td>False</td>\n",
       "    </tr>\n",
       "    <tr>\n",
       "      <th>...</th>\n",
       "      <td>...</td>\n",
       "      <td>...</td>\n",
       "      <td>...</td>\n",
       "      <td>...</td>\n",
       "      <td>...</td>\n",
       "      <td>...</td>\n",
       "      <td>...</td>\n",
       "      <td>...</td>\n",
       "      <td>...</td>\n",
       "      <td>...</td>\n",
       "      <td>...</td>\n",
       "      <td>...</td>\n",
       "    </tr>\n",
       "    <tr>\n",
       "      <th>886</th>\n",
       "      <td>False</td>\n",
       "      <td>False</td>\n",
       "      <td>False</td>\n",
       "      <td>False</td>\n",
       "      <td>False</td>\n",
       "      <td>False</td>\n",
       "      <td>False</td>\n",
       "      <td>False</td>\n",
       "      <td>False</td>\n",
       "      <td>False</td>\n",
       "      <td>True</td>\n",
       "      <td>False</td>\n",
       "    </tr>\n",
       "    <tr>\n",
       "      <th>887</th>\n",
       "      <td>False</td>\n",
       "      <td>False</td>\n",
       "      <td>False</td>\n",
       "      <td>False</td>\n",
       "      <td>False</td>\n",
       "      <td>False</td>\n",
       "      <td>False</td>\n",
       "      <td>False</td>\n",
       "      <td>False</td>\n",
       "      <td>False</td>\n",
       "      <td>False</td>\n",
       "      <td>False</td>\n",
       "    </tr>\n",
       "    <tr>\n",
       "      <th>888</th>\n",
       "      <td>False</td>\n",
       "      <td>False</td>\n",
       "      <td>False</td>\n",
       "      <td>False</td>\n",
       "      <td>False</td>\n",
       "      <td>True</td>\n",
       "      <td>False</td>\n",
       "      <td>False</td>\n",
       "      <td>False</td>\n",
       "      <td>False</td>\n",
       "      <td>True</td>\n",
       "      <td>False</td>\n",
       "    </tr>\n",
       "    <tr>\n",
       "      <th>889</th>\n",
       "      <td>False</td>\n",
       "      <td>False</td>\n",
       "      <td>False</td>\n",
       "      <td>False</td>\n",
       "      <td>False</td>\n",
       "      <td>False</td>\n",
       "      <td>False</td>\n",
       "      <td>False</td>\n",
       "      <td>False</td>\n",
       "      <td>False</td>\n",
       "      <td>False</td>\n",
       "      <td>False</td>\n",
       "    </tr>\n",
       "    <tr>\n",
       "      <th>890</th>\n",
       "      <td>False</td>\n",
       "      <td>False</td>\n",
       "      <td>False</td>\n",
       "      <td>False</td>\n",
       "      <td>False</td>\n",
       "      <td>False</td>\n",
       "      <td>False</td>\n",
       "      <td>False</td>\n",
       "      <td>False</td>\n",
       "      <td>False</td>\n",
       "      <td>True</td>\n",
       "      <td>False</td>\n",
       "    </tr>\n",
       "  </tbody>\n",
       "</table>\n",
       "<p>891 rows × 12 columns</p>\n",
       "</div>"
      ],
      "text/plain": [
       "     PassengerId  Survived  Pclass   Name    Sex    Age  SibSp  Parch  Ticket  \\\n",
       "0          False     False   False  False  False  False  False  False   False   \n",
       "1          False     False   False  False  False  False  False  False   False   \n",
       "2          False     False   False  False  False  False  False  False   False   \n",
       "3          False     False   False  False  False  False  False  False   False   \n",
       "4          False     False   False  False  False  False  False  False   False   \n",
       "..           ...       ...     ...    ...    ...    ...    ...    ...     ...   \n",
       "886        False     False   False  False  False  False  False  False   False   \n",
       "887        False     False   False  False  False  False  False  False   False   \n",
       "888        False     False   False  False  False   True  False  False   False   \n",
       "889        False     False   False  False  False  False  False  False   False   \n",
       "890        False     False   False  False  False  False  False  False   False   \n",
       "\n",
       "      Fare  Cabin  Embarked  \n",
       "0    False   True     False  \n",
       "1    False  False     False  \n",
       "2    False   True     False  \n",
       "3    False  False     False  \n",
       "4    False   True     False  \n",
       "..     ...    ...       ...  \n",
       "886  False   True     False  \n",
       "887  False  False     False  \n",
       "888  False   True     False  \n",
       "889  False  False     False  \n",
       "890  False   True     False  \n",
       "\n",
       "[891 rows x 12 columns]"
      ]
     },
     "execution_count": 20,
     "metadata": {},
     "output_type": "execute_result"
    }
   ],
   "source": [
    "pd.isna(dataset)"
   ]
  },
  {
   "cell_type": "markdown",
   "metadata": {},
   "source": [
    "## В каких колонках есть пропуски"
   ]
  },
  {
   "cell_type": "code",
   "execution_count": 21,
   "metadata": {},
   "outputs": [
    {
     "data": {
      "text/plain": [
       "Index(['Age', 'Cabin', 'Embarked'], dtype='object')"
      ]
     },
     "execution_count": 21,
     "metadata": {},
     "output_type": "execute_result"
    }
   ],
   "source": [
    "columns_with_missing_value = pd.isna(dataset).any()\n",
    "dataset.columns[columns_with_missing_value]"
   ]
  },
  {
   "cell_type": "markdown",
   "metadata": {},
   "source": [
    "## Доля выживших пассажиров"
   ]
  },
  {
   "cell_type": "code",
   "execution_count": 22,
   "metadata": {},
   "outputs": [
    {
     "data": {
      "text/plain": [
       "0.3838383838383838"
      ]
     },
     "execution_count": 22,
     "metadata": {},
     "output_type": "execute_result"
    }
   ],
   "source": [
    "dataset['Survived'].sum() / dataset['Survived'].count()"
   ]
  },
  {
   "cell_type": "markdown",
   "metadata": {},
   "source": [
    "Классы для бинарной классификации несбалансированы"
   ]
  },
  {
   "cell_type": "markdown",
   "metadata": {},
   "source": [
    "## Количество мужчин и женщин"
   ]
  },
  {
   "cell_type": "code",
   "execution_count": 23,
   "metadata": {},
   "outputs": [
    {
     "data": {
      "text/plain": [
       "male    577\n",
       "Name: Sex, dtype: int64"
      ]
     },
     "execution_count": 23,
     "metadata": {},
     "output_type": "execute_result"
    }
   ],
   "source": [
    "dataset[dataset['Sex'] == 'male']['Sex'].value_counts()"
   ]
  },
  {
   "cell_type": "code",
   "execution_count": 24,
   "metadata": {},
   "outputs": [
    {
     "data": {
      "text/plain": [
       "female    314\n",
       "Name: Sex, dtype: int64"
      ]
     },
     "execution_count": 24,
     "metadata": {},
     "output_type": "execute_result"
    }
   ],
   "source": [
    "dataset[dataset['Sex'] == 'female']['Sex'].value_counts()"
   ]
  },
  {
   "cell_type": "markdown",
   "metadata": {},
   "source": [
    "Мужчин больше, чем женщин"
   ]
  },
  {
   "cell_type": "markdown",
   "metadata": {},
   "source": [
    "## The least popular port of embarkation"
   ]
  },
  {
   "cell_type": "code",
   "execution_count": 25,
   "metadata": {},
   "outputs": [
    {
     "data": {
      "text/plain": [
       "S    644\n",
       "C    168\n",
       "Q     77\n",
       "Name: Embarked, dtype: int64"
      ]
     },
     "execution_count": 25,
     "metadata": {},
     "output_type": "execute_result"
    }
   ],
   "source": [
    "dataset['Embarked'].value_counts()"
   ]
  },
  {
   "cell_type": "code",
   "execution_count": 26,
   "metadata": {},
   "outputs": [
    {
     "name": "stdout",
     "output_type": "stream",
     "text": [
      "Наименее популярный: Q\n"
     ]
    }
   ],
   "source": [
    "print('Наименее популярный:', dataset['Embarked'].value_counts().keys()[-1])"
   ]
  },
  {
   "cell_type": "markdown",
   "metadata": {},
   "source": [
    "## Количество p-классов"
   ]
  },
  {
   "cell_type": "code",
   "execution_count": 27,
   "metadata": {},
   "outputs": [
    {
     "data": {
      "text/plain": [
       "3"
      ]
     },
     "execution_count": 27,
     "metadata": {},
     "output_type": "execute_result"
    }
   ],
   "source": [
    "dataset['Pclass'].unique().size"
   ]
  },
  {
   "cell_type": "markdown",
   "metadata": {},
   "source": [
    "## Average ticket fare"
   ]
  },
  {
   "cell_type": "code",
   "execution_count": 28,
   "metadata": {},
   "outputs": [
    {
     "name": "stdout",
     "output_type": "stream",
     "text": [
      "Overall: 32.2042079685746\n",
      "1 class: 84.15468749999992\n",
      "2 class: 20.66218315217391\n",
      "3 class: 13.675550101832997\n"
     ]
    }
   ],
   "source": [
    "print(\"Overall:\", dataset['Fare'].mean())\n",
    "print(\"1 class:\", dataset[dataset['Pclass'] == 1]['Fare'].mean())\n",
    "print(\"2 class:\", dataset[dataset['Pclass'] == 2]['Fare'].mean())\n",
    "print(\"3 class:\", dataset[dataset['Pclass'] == 3]['Fare'].mean())"
   ]
  },
  {
   "cell_type": "markdown",
   "metadata": {},
   "source": [
    "**Task 2** (0.5 points) <br/>\n",
    "Visualize age distribution (you may use a histogram, for example). \n",
    "\n",
    "    * What is the minimal and maximum ages of the passengers? Visualize it on the plot\n",
    "    * What is the mean age? And among males and females sepatately? Visualize it on the plot\n",
    "    * Make conclusions about what you see on the plot"
   ]
  },
  {
   "cell_type": "code",
   "execution_count": 29,
   "metadata": {},
   "outputs": [
    {
     "data": {
      "image/png": "[encoded data removed]",
      "text/plain": [
       "<Figure size 1080x720 with 1 Axes>"
      ]
     },
     "metadata": {
      "needs_background": "light"
     },
     "output_type": "display_data"
    }
   ],
   "source": [
    "plt.figure(figsize=(15, 10))\n",
    "p = sns.histplot(dataset['Age'], kde=True, legend=True, bins=15)\n",
    "p.axvline(dataset['Age'].min(), color='green', label='min')\n",
    "p.axvline(dataset['Age'].max(), color='red', label='max')\n",
    "p.axvline(dataset['Age'].mean(), color='yellow', label='mean')\n",
    "p.axvline(dataset[dataset['Sex'] == 'male']['Age'].mean(), color='blue', label='male_mean')\n",
    "p.axvline(dataset[dataset['Sex'] == 'female']['Age'].mean(), color='pink', label='female_mean')\n",
    "p.legend(bbox_to_anchor= (1,1))\n",
    "plt.show()"
   ]
  },
  {
   "cell_type": "markdown",
   "metadata": {},
   "source": [
    "В среднем женщины на борту моложе мужчин, но, скорее всего, это в рамках погрешности(наблюдений всего 891).\n",
    "\n",
    "Минимальный возраст: 0, Максимальный возраст: 80\n",
    "\n",
    "Больше всего людей на борту в возрасте примерно от 27 до 32 лет.\n",
    "\n",
    "Распределение ненормально, со сдвигом влево"
   ]
  },
  {
   "cell_type": "markdown",
   "metadata": {},
   "source": [
    "**Task 3** (1 points) <br/>\n",
    "Find all the titles of the passengers (example, *Capt., Mr.,Mme.*), which are written in the column Name, and answer the following questions:\n",
    "\n",
    "    * How many are there unique titles?\n",
    "    * How many are there passengers with every title?\n",
    "    * What is the most popular man's title? And woman's title?\n",
    "    \n",
    "**Hint** You may select the title from the name as a word which contains a dot."
   ]
  },
  {
   "cell_type": "markdown",
   "metadata": {},
   "source": [
    "## Add Title column to dataset"
   ]
  },
  {
   "cell_type": "code",
   "execution_count": 30,
   "metadata": {},
   "outputs": [
    {
     "data": {
      "text/html": [
       "<div>\n",
       "<style scoped>\n",
       "    .dataframe tbody tr th:only-of-type {\n",
       "        vertical-align: middle;\n",
       "    }\n",
       "\n",
       "    .dataframe tbody tr th {\n",
       "        vertical-align: top;\n",
       "    }\n",
       "\n",
       "    .dataframe thead th {\n",
       "        text-align: right;\n",
       "    }\n",
       "</style>\n",
       "<table border=\"1\" class=\"dataframe\">\n",
       "  <thead>\n",
       "    <tr style=\"text-align: right;\">\n",
       "      <th></th>\n",
       "      <th>PassengerId</th>\n",
       "      <th>Survived</th>\n",
       "      <th>Pclass</th>\n",
       "      <th>Name</th>\n",
       "      <th>Sex</th>\n",
       "      <th>Age</th>\n",
       "      <th>SibSp</th>\n",
       "      <th>Parch</th>\n",
       "      <th>Ticket</th>\n",
       "      <th>Fare</th>\n",
       "      <th>Cabin</th>\n",
       "      <th>Embarked</th>\n",
       "      <th>Title</th>\n",
       "    </tr>\n",
       "  </thead>\n",
       "  <tbody>\n",
       "    <tr>\n",
       "      <th>0</th>\n",
       "      <td>1</td>\n",
       "      <td>0</td>\n",
       "      <td>3</td>\n",
       "      <td>Braund, Mr. Owen Harris</td>\n",
       "      <td>male</td>\n",
       "      <td>22.0</td>\n",
       "      <td>1</td>\n",
       "      <td>0</td>\n",
       "      <td>A/5 21171</td>\n",
       "      <td>7.2500</td>\n",
       "      <td>NaN</td>\n",
       "      <td>S</td>\n",
       "      <td>Mr.</td>\n",
       "    </tr>\n",
       "    <tr>\n",
       "      <th>1</th>\n",
       "      <td>2</td>\n",
       "      <td>1</td>\n",
       "      <td>1</td>\n",
       "      <td>Cumings, Mrs. John Bradley (Florence Briggs Th...</td>\n",
       "      <td>female</td>\n",
       "      <td>38.0</td>\n",
       "      <td>1</td>\n",
       "      <td>0</td>\n",
       "      <td>PC 17599</td>\n",
       "      <td>71.2833</td>\n",
       "      <td>C85</td>\n",
       "      <td>C</td>\n",
       "      <td>Mrs.</td>\n",
       "    </tr>\n",
       "    <tr>\n",
       "      <th>2</th>\n",
       "      <td>3</td>\n",
       "      <td>1</td>\n",
       "      <td>3</td>\n",
       "      <td>Heikkinen, Miss. Laina</td>\n",
       "      <td>female</td>\n",
       "      <td>26.0</td>\n",
       "      <td>0</td>\n",
       "      <td>0</td>\n",
       "      <td>STON/O2. 3101282</td>\n",
       "      <td>7.9250</td>\n",
       "      <td>NaN</td>\n",
       "      <td>S</td>\n",
       "      <td>Miss.</td>\n",
       "    </tr>\n",
       "    <tr>\n",
       "      <th>3</th>\n",
       "      <td>4</td>\n",
       "      <td>1</td>\n",
       "      <td>1</td>\n",
       "      <td>Futrelle, Mrs. Jacques Heath (Lily May Peel)</td>\n",
       "      <td>female</td>\n",
       "      <td>35.0</td>\n",
       "      <td>1</td>\n",
       "      <td>0</td>\n",
       "      <td>113803</td>\n",
       "      <td>53.1000</td>\n",
       "      <td>C123</td>\n",
       "      <td>S</td>\n",
       "      <td>Mrs.</td>\n",
       "    </tr>\n",
       "    <tr>\n",
       "      <th>4</th>\n",
       "      <td>5</td>\n",
       "      <td>0</td>\n",
       "      <td>3</td>\n",
       "      <td>Allen, Mr. William Henry</td>\n",
       "      <td>male</td>\n",
       "      <td>35.0</td>\n",
       "      <td>0</td>\n",
       "      <td>0</td>\n",
       "      <td>373450</td>\n",
       "      <td>8.0500</td>\n",
       "      <td>NaN</td>\n",
       "      <td>S</td>\n",
       "      <td>Mr.</td>\n",
       "    </tr>\n",
       "  </tbody>\n",
       "</table>\n",
       "</div>"
      ],
      "text/plain": [
       "   PassengerId  Survived  Pclass  \\\n",
       "0            1         0       3   \n",
       "1            2         1       1   \n",
       "2            3         1       3   \n",
       "3            4         1       1   \n",
       "4            5         0       3   \n",
       "\n",
       "                                                Name     Sex   Age  SibSp  \\\n",
       "0                            Braund, Mr. Owen Harris    male  22.0      1   \n",
       "1  Cumings, Mrs. John Bradley (Florence Briggs Th...  female  38.0      1   \n",
       "2                             Heikkinen, Miss. Laina  female  26.0      0   \n",
       "3       Futrelle, Mrs. Jacques Heath (Lily May Peel)  female  35.0      1   \n",
       "4                           Allen, Mr. William Henry    male  35.0      0   \n",
       "\n",
       "   Parch            Ticket     Fare Cabin Embarked  Title  \n",
       "0      0         A/5 21171   7.2500   NaN        S    Mr.  \n",
       "1      0          PC 17599  71.2833   C85        C   Mrs.  \n",
       "2      0  STON/O2. 3101282   7.9250   NaN        S  Miss.  \n",
       "3      0            113803  53.1000  C123        S   Mrs.  \n",
       "4      0            373450   8.0500   NaN        S    Mr.  "
      ]
     },
     "execution_count": 30,
     "metadata": {},
     "output_type": "execute_result"
    }
   ],
   "source": [
    "def get_title(row):\n",
    "    words = row['Name'].split(' ')\n",
    "    for word in words:\n",
    "        if word[-1] == '.':\n",
    "            return word\n",
    "    return None\n",
    "\n",
    "dataset['Title'] = dataset.apply(get_title, axis=1)\n",
    "dataset.head()"
   ]
  },
  {
   "cell_type": "markdown",
   "metadata": {},
   "source": [
    "## Unique titles"
   ]
  },
  {
   "cell_type": "code",
   "execution_count": 31,
   "metadata": {},
   "outputs": [
    {
     "name": "stdout",
     "output_type": "stream",
     "text": [
      "Уникальные значения: ['Mr.' 'Mrs.' 'Miss.' 'Master.' 'Don.' 'Rev.' 'Dr.' 'Mme.' 'Ms.' 'Major.'\n",
      " 'Lady.' 'Sir.' 'Mlle.' 'Col.' 'Capt.' 'Countess.' 'Jonkheer.']\n",
      "Количество: 17\n"
     ]
    }
   ],
   "source": [
    "print(\"Уникальные значения:\", dataset['Title'].unique())\n",
    "print(\"Количество:\", dataset['Title'].unique().size)"
   ]
  },
  {
   "cell_type": "markdown",
   "metadata": {},
   "source": [
    "## How many are there passengers with every title"
   ]
  },
  {
   "cell_type": "code",
   "execution_count": 32,
   "metadata": {},
   "outputs": [
    {
     "data": {
      "text/plain": [
       "Mr.          517\n",
       "Miss.        182\n",
       "Mrs.         125\n",
       "Master.       40\n",
       "Dr.            7\n",
       "Rev.           6\n",
       "Mlle.          2\n",
       "Major.         2\n",
       "Col.           2\n",
       "Countess.      1\n",
       "Capt.          1\n",
       "Ms.            1\n",
       "Sir.           1\n",
       "Lady.          1\n",
       "Mme.           1\n",
       "Don.           1\n",
       "Jonkheer.      1\n",
       "Name: Title, dtype: int64"
      ]
     },
     "execution_count": 32,
     "metadata": {},
     "output_type": "execute_result"
    }
   ],
   "source": [
    "dataset['Title'].value_counts()"
   ]
  },
  {
   "cell_type": "markdown",
   "metadata": {},
   "source": [
    "## What is the most popular man's title"
   ]
  },
  {
   "cell_type": "code",
   "execution_count": 33,
   "metadata": {},
   "outputs": [
    {
     "data": {
      "text/plain": [
       "'Mr.'"
      ]
     },
     "execution_count": 33,
     "metadata": {},
     "output_type": "execute_result"
    }
   ],
   "source": [
    "dataset[dataset['Sex'] == 'male']['Title'].value_counts().keys()[0]"
   ]
  },
  {
   "cell_type": "markdown",
   "metadata": {},
   "source": [
    "## What is the most popular woman's title"
   ]
  },
  {
   "cell_type": "code",
   "execution_count": 34,
   "metadata": {},
   "outputs": [
    {
     "data": {
      "text/plain": [
       "'Miss.'"
      ]
     },
     "execution_count": 34,
     "metadata": {},
     "output_type": "execute_result"
    }
   ],
   "source": [
    "dataset[dataset['Sex'] == 'female']['Title'].value_counts().keys()[0]"
   ]
  },
  {
   "cell_type": "markdown",
   "metadata": {},
   "source": []
  },
  {
   "cell_type": "markdown",
   "metadata": {},
   "source": [
    "**Task 4** (0.5 points) <br/>\n",
    "Is there correlation between *pclass* and *ticket price*? Calculate mean price (for each port) -> for each pclass and visualize prize distribution for each port. Make conclusions about what you see on the plot\n",
    "\n",
    "Hint: you could make one or several plot types i.e.  box, violine, pair, histogram (see additional notebooks for Seminar 1 \"Visualization with Seaborn\"). main point here is to **choose** plots wisely and **make meaningful conclusions**\n",
    "\n"
   ]
  },
  {
   "cell_type": "code",
   "execution_count": 35,
   "metadata": {},
   "outputs": [
    {
     "name": "stdout",
     "output_type": "stream",
     "text": [
      "Correlation matrix:\n"
     ]
    },
    {
     "data": {
      "text/html": [
       "<div>\n",
       "<style scoped>\n",
       "    .dataframe tbody tr th:only-of-type {\n",
       "        vertical-align: middle;\n",
       "    }\n",
       "\n",
       "    .dataframe tbody tr th {\n",
       "        vertical-align: top;\n",
       "    }\n",
       "\n",
       "    .dataframe thead th {\n",
       "        text-align: right;\n",
       "    }\n",
       "</style>\n",
       "<table border=\"1\" class=\"dataframe\">\n",
       "  <thead>\n",
       "    <tr style=\"text-align: right;\">\n",
       "      <th></th>\n",
       "      <th>Pclass</th>\n",
       "      <th>Fare</th>\n",
       "    </tr>\n",
       "  </thead>\n",
       "  <tbody>\n",
       "    <tr>\n",
       "      <th>Pclass</th>\n",
       "      <td>1.0000</td>\n",
       "      <td>-0.5495</td>\n",
       "    </tr>\n",
       "    <tr>\n",
       "      <th>Fare</th>\n",
       "      <td>-0.5495</td>\n",
       "      <td>1.0000</td>\n",
       "    </tr>\n",
       "  </tbody>\n",
       "</table>\n",
       "</div>"
      ],
      "text/plain": [
       "        Pclass    Fare\n",
       "Pclass  1.0000 -0.5495\n",
       "Fare   -0.5495  1.0000"
      ]
     },
     "execution_count": 35,
     "metadata": {},
     "output_type": "execute_result"
    }
   ],
   "source": [
    "print(\"Correlation matrix:\")\n",
    "dataset[['Pclass', 'Fare']].corr()"
   ]
  },
  {
   "cell_type": "markdown",
   "metadata": {},
   "source": [
    "Корреляция отрицательная, по модулю ~0.55. Значит, что, возможно, есть небольшая линейная отрицательная зависимость между классом пассажира и ценой билета. Т.е. чем меньше номер класса - тем больше цена билета. Далее можно увидеть графическое подтверждение."
   ]
  },
  {
   "cell_type": "code",
   "execution_count": 36,
   "metadata": {},
   "outputs": [
    {
     "data": {
      "text/plain": [
       "<seaborn.axisgrid.FacetGrid at 0x1f869ce7730>"
      ]
     },
     "execution_count": 36,
     "metadata": {},
     "output_type": "execute_result"
    },
    {
     "data": {
      "text/plain": [
       "<Figure size 1080x720 with 0 Axes>"
      ]
     },
     "metadata": {},
     "output_type": "display_data"
    },
    {
     "data": {
      "image/png": "[encoded data removed]",
      "text/plain": [
       "<Figure size 360x360 with 1 Axes>"
      ]
     },
     "metadata": {
      "needs_background": "light"
     },
     "output_type": "display_data"
    }
   ],
   "source": [
    "plt.figure(figsize=(15, 10))\n",
    "sns.lmplot(data=dataset, x='Pclass', y='Fare')"
   ]
  },
  {
   "cell_type": "code",
   "execution_count": 37,
   "metadata": {},
   "outputs": [
    {
     "data": {
      "text/plain": [
       "<AxesSubplot:xlabel='Pclass', ylabel='Fare'>"
      ]
     },
     "execution_count": 37,
     "metadata": {},
     "output_type": "execute_result"
    },
    {
     "data": {
      "image/png": "[encoded data removed]",
      "text/plain": [
       "<Figure size 1080x720 with 1 Axes>"
      ]
     },
     "metadata": {
      "needs_background": "light"
     },
     "output_type": "display_data"
    }
   ],
   "source": [
    "plt.figure(figsize=(15, 10))\n",
    "sns.boxplot(x=\"Pclass\", y=\"Fare\", data=dataset)"
   ]
  },
  {
   "cell_type": "markdown",
   "metadata": {},
   "source": [
    "Теперь построим графики распределения отдельно для каждого класса пассажира"
   ]
  },
  {
   "cell_type": "code",
   "execution_count": 38,
   "metadata": {},
   "outputs": [
    {
     "name": "stdout",
     "output_type": "stream",
     "text": [
      "first_mean 84.15468749999992\n",
      "second_mean 20.66218315217391\n",
      "third_mean 13.675550101832997\n"
     ]
    }
   ],
   "source": [
    "first_mean = dataset[dataset['Pclass'] == 1]['Fare'].mean()\n",
    "second_mean = dataset[dataset['Pclass'] == 2]['Fare'].mean()\n",
    "third_mean = dataset[dataset['Pclass'] == 3]['Fare'].mean()\n",
    "print(\"first_mean\", first_mean)\n",
    "print(\"second_mean\", second_mean)\n",
    "print(\"third_mean\", third_mean)"
   ]
  },
  {
   "cell_type": "code",
   "execution_count": 39,
   "metadata": {},
   "outputs": [
    {
     "data": {
      "image/png": "[encoded data removed]",
      "text/plain": [
       "<Figure size 1080x720 with 1 Axes>"
      ]
     },
     "metadata": {
      "needs_background": "light"
     },
     "output_type": "display_data"
    }
   ],
   "source": [
    "plt.figure(figsize=(15, 10))\n",
    "p = sns.histplot(x=dataset[dataset['Pclass'] == 1]['Fare'], kde=True)\n",
    "p.axvline(first_mean, label='first_mean', color='darkblue')\n",
    "p.set(title='1 class')\n",
    "plt.show()"
   ]
  },
  {
   "cell_type": "code",
   "execution_count": 40,
   "metadata": {},
   "outputs": [
    {
     "data": {
      "image/png": "[encoded data removed]",
      "text/plain": [
       "<Figure size 1080x720 with 1 Axes>"
      ]
     },
     "metadata": {
      "needs_background": "light"
     },
     "output_type": "display_data"
    }
   ],
   "source": [
    "plt.figure(figsize=(15, 10))\n",
    "p = sns.histplot(x=dataset[dataset['Pclass'] == 2]['Fare'], kde=True)\n",
    "p.axvline(second_mean, label='second_mean', color='darkblue')\n",
    "p.set(title='2 class')\n",
    "plt.show()"
   ]
  },
  {
   "cell_type": "code",
   "execution_count": 41,
   "metadata": {},
   "outputs": [
    {
     "data": {
      "image/png": "[encoded data removed]",
      "text/plain": [
       "<Figure size 1080x720 with 1 Axes>"
      ]
     },
     "metadata": {
      "needs_background": "light"
     },
     "output_type": "display_data"
    }
   ],
   "source": [
    "plt.figure(figsize=(15, 10))\n",
    "p = sns.histplot(x=dataset[dataset['Pclass'] == 3]['Fare'], kde=True)\n",
    "p.axvline(third_mean, label='third_mean', color='darkblue')\n",
    "p.set(title='3 class')\n",
    "plt.show()"
   ]
  },
  {
   "cell_type": "markdown",
   "metadata": {},
   "source": [
    "Видно, что класс 1 выбивается из других - у него самая большая цена на билет. У 2 класса намного меньше, а у 3 чуть меньше, чем у 2. Это соответсвует логике - у пассажиров 1 класса больше удобств и соответственно цены на билеты выше.\n",
    "\n",
    "Значит, есть отрицательная линейная зависимость"
   ]
  },
  {
   "cell_type": "markdown",
   "metadata": {},
   "source": [
    "**Task 5** (0.5 points) <br/>\n",
    "The same question as in task 4 about correlation between *embarked* and *ticket priсe*."
   ]
  },
  {
   "cell_type": "markdown",
   "metadata": {},
   "source": [
    "Поскольку это категориальная переменная, давайте для начала построим отдельные графики для каждого порта."
   ]
  },
  {
   "cell_type": "markdown",
   "metadata": {},
   "source": [
    "## For each port"
   ]
  },
  {
   "cell_type": "code",
   "execution_count": 42,
   "metadata": {},
   "outputs": [
    {
     "name": "stdout",
     "output_type": "stream",
     "text": [
      "S_mean 27.07981180124218\n",
      "C_mean 59.95414404761905\n",
      "Q_mean 13.276029870129872\n"
     ]
    }
   ],
   "source": [
    "S_mean = dataset[dataset['Embarked'] == 'S']['Fare'].mean()\n",
    "C_mean = dataset[dataset['Embarked'] == 'C']['Fare'].mean()\n",
    "Q_mean = dataset[dataset['Embarked'] == 'Q']['Fare'].mean()\n",
    "print(\"S_mean\", S_mean)\n",
    "print(\"C_mean\", C_mean)\n",
    "print(\"Q_mean\", Q_mean)"
   ]
  },
  {
   "cell_type": "code",
   "execution_count": 43,
   "metadata": {},
   "outputs": [
    {
     "data": {
      "image/png": "[encoded data removed]",
      "text/plain": [
       "<Figure size 1080x720 with 1 Axes>"
      ]
     },
     "metadata": {
      "needs_background": "light"
     },
     "output_type": "display_data"
    }
   ],
   "source": [
    "plt.figure(figsize=(15, 10))\n",
    "p = sns.histplot(x=dataset['Fare'], hue=dataset['Embarked'], kde=True)\n",
    "p.axvline(S_mean, label='S_mean', color='darkblue')\n",
    "p.axvline(C_mean, label='C_mean', color='orange')\n",
    "p.axvline(Q_mean, label='Q_mean', color='darkgreen')\n",
    "plt.show()"
   ]
  },
  {
   "cell_type": "code",
   "execution_count": 44,
   "metadata": {},
   "outputs": [
    {
     "data": {
      "image/png": "[encoded data removed]",
      "text/plain": [
       "<Figure size 1080x720 with 1 Axes>"
      ]
     },
     "metadata": {
      "needs_background": "light"
     },
     "output_type": "display_data"
    }
   ],
   "source": [
    "plt.figure(figsize=(15, 10))\n",
    "p = sns.histplot(x=dataset[dataset['Embarked'] == 'S']['Fare'], kde=True)\n",
    "p.axvline(S_mean, label='S_mean', color='darkblue')\n",
    "p.set(title='S port')\n",
    "plt.show()"
   ]
  },
  {
   "cell_type": "code",
   "execution_count": 45,
   "metadata": {},
   "outputs": [
    {
     "data": {
      "image/png": "[encoded data removed]",
      "text/plain": [
       "<Figure size 1080x720 with 1 Axes>"
      ]
     },
     "metadata": {
      "needs_background": "light"
     },
     "output_type": "display_data"
    }
   ],
   "source": [
    "plt.figure(figsize=(15, 10))\n",
    "p = sns.histplot(x=dataset[dataset['Embarked'] == 'C']['Fare'], kde=True)\n",
    "p.axvline(C_mean, label='C_mean', color='darkblue')\n",
    "p.set(title='C port')\n",
    "plt.show()"
   ]
  },
  {
   "cell_type": "code",
   "execution_count": 46,
   "metadata": {},
   "outputs": [
    {
     "data": {
      "image/png": "[encoded data removed]",
      "text/plain": [
       "<Figure size 1080x720 with 1 Axes>"
      ]
     },
     "metadata": {
      "needs_background": "light"
     },
     "output_type": "display_data"
    }
   ],
   "source": [
    "plt.figure(figsize=(15, 10))\n",
    "p = sns.histplot(x=dataset[dataset['Embarked'] == 'Q']['Fare'], kde=True)\n",
    "p.axvline(Q_mean, label='Q_mean', color='darkblue')\n",
    "p.set(title='Q port')\n",
    "plt.show()"
   ]
  },
  {
   "cell_type": "markdown",
   "metadata": {},
   "source": [
    "## Conclusions\n",
    "В среднем самые дорогие билеты оказались из порта C, а самые дешевые - из Q. Но, скорее всего, такое большое среднее в порте Q оказалось таковым, потому что по ним у нас маленькая выборка, а также есть выбросы в очень большим значением цены.\n",
    "\n",
    "Ранее мы уже считали количество данных по разным портам"
   ]
  },
  {
   "cell_type": "code",
   "execution_count": 47,
   "metadata": {},
   "outputs": [
    {
     "data": {
      "text/plain": [
       "S    644\n",
       "C    168\n",
       "Q     77\n",
       "Name: Embarked, dtype: int64"
      ]
     },
     "execution_count": 47,
     "metadata": {},
     "output_type": "execute_result"
    }
   ],
   "source": [
    "dataset['Embarked'].value_counts()"
   ]
  },
  {
   "cell_type": "markdown",
   "metadata": {},
   "source": [
    "Меньше всего данных у нас по порту Q, далее - по порту C, и больше всего - по порту S. Так что, скорее всего, разные средние продиктованы выбросами в данных и несбалансированной выборкой. Давайте проверим на выбросы"
   ]
  },
  {
   "cell_type": "code",
   "execution_count": 48,
   "metadata": {},
   "outputs": [
    {
     "data": {
      "text/plain": [
       "<AxesSubplot:xlabel='Embarked', ylabel='Fare'>"
      ]
     },
     "execution_count": 48,
     "metadata": {},
     "output_type": "execute_result"
    },
    {
     "data": {
      "image/png": "[encoded data removed]",
      "text/plain": [
       "<Figure size 1080x720 with 1 Axes>"
      ]
     },
     "metadata": {
      "needs_background": "light"
     },
     "output_type": "display_data"
    }
   ],
   "source": [
    "plt.figure(figsize=(15, 10))\n",
    "sns.boxplot(x=\"Embarked\", y=\"Fare\", data=dataset)"
   ]
  },
  {
   "cell_type": "markdown",
   "metadata": {},
   "source": [
    "Действительно, у С есть много выбросов, относительно количества данных. И, т.к. мы не можем однозначно определить(из логики), действительно ли порты отличаются по стоимости(в отличие от класса пассажира), скорее всего, между именем порта и ценой билета нет корреляции из-за выбросов. "
   ]
  },
  {
   "cell_type": "markdown",
   "metadata": {},
   "source": [
    "Давайте теперь переименуем переменные в числа и построим матрицу корреляции"
   ]
  },
  {
   "cell_type": "code",
   "execution_count": 49,
   "metadata": {},
   "outputs": [
    {
     "data": {
      "text/html": [
       "<div>\n",
       "<style scoped>\n",
       "    .dataframe tbody tr th:only-of-type {\n",
       "        vertical-align: middle;\n",
       "    }\n",
       "\n",
       "    .dataframe tbody tr th {\n",
       "        vertical-align: top;\n",
       "    }\n",
       "\n",
       "    .dataframe thead th {\n",
       "        text-align: right;\n",
       "    }\n",
       "</style>\n",
       "<table border=\"1\" class=\"dataframe\">\n",
       "  <thead>\n",
       "    <tr style=\"text-align: right;\">\n",
       "      <th></th>\n",
       "      <th>PassengerId</th>\n",
       "      <th>Survived</th>\n",
       "      <th>Pclass</th>\n",
       "      <th>Name</th>\n",
       "      <th>Sex</th>\n",
       "      <th>Age</th>\n",
       "      <th>SibSp</th>\n",
       "      <th>Parch</th>\n",
       "      <th>Ticket</th>\n",
       "      <th>Fare</th>\n",
       "      <th>Cabin</th>\n",
       "      <th>Embarked</th>\n",
       "      <th>Title</th>\n",
       "    </tr>\n",
       "  </thead>\n",
       "  <tbody>\n",
       "    <tr>\n",
       "      <th>0</th>\n",
       "      <td>1</td>\n",
       "      <td>0</td>\n",
       "      <td>3</td>\n",
       "      <td>Braund, Mr. Owen Harris</td>\n",
       "      <td>male</td>\n",
       "      <td>22.0</td>\n",
       "      <td>1</td>\n",
       "      <td>0</td>\n",
       "      <td>A/5 21171</td>\n",
       "      <td>7.2500</td>\n",
       "      <td>NaN</td>\n",
       "      <td>2</td>\n",
       "      <td>Mr.</td>\n",
       "    </tr>\n",
       "    <tr>\n",
       "      <th>1</th>\n",
       "      <td>2</td>\n",
       "      <td>1</td>\n",
       "      <td>1</td>\n",
       "      <td>Cumings, Mrs. John Bradley (Florence Briggs Th...</td>\n",
       "      <td>female</td>\n",
       "      <td>38.0</td>\n",
       "      <td>1</td>\n",
       "      <td>0</td>\n",
       "      <td>PC 17599</td>\n",
       "      <td>71.2833</td>\n",
       "      <td>C85</td>\n",
       "      <td>0</td>\n",
       "      <td>Mrs.</td>\n",
       "    </tr>\n",
       "    <tr>\n",
       "      <th>2</th>\n",
       "      <td>3</td>\n",
       "      <td>1</td>\n",
       "      <td>3</td>\n",
       "      <td>Heikkinen, Miss. Laina</td>\n",
       "      <td>female</td>\n",
       "      <td>26.0</td>\n",
       "      <td>0</td>\n",
       "      <td>0</td>\n",
       "      <td>STON/O2. 3101282</td>\n",
       "      <td>7.9250</td>\n",
       "      <td>NaN</td>\n",
       "      <td>2</td>\n",
       "      <td>Miss.</td>\n",
       "    </tr>\n",
       "    <tr>\n",
       "      <th>3</th>\n",
       "      <td>4</td>\n",
       "      <td>1</td>\n",
       "      <td>1</td>\n",
       "      <td>Futrelle, Mrs. Jacques Heath (Lily May Peel)</td>\n",
       "      <td>female</td>\n",
       "      <td>35.0</td>\n",
       "      <td>1</td>\n",
       "      <td>0</td>\n",
       "      <td>113803</td>\n",
       "      <td>53.1000</td>\n",
       "      <td>C123</td>\n",
       "      <td>2</td>\n",
       "      <td>Mrs.</td>\n",
       "    </tr>\n",
       "    <tr>\n",
       "      <th>4</th>\n",
       "      <td>5</td>\n",
       "      <td>0</td>\n",
       "      <td>3</td>\n",
       "      <td>Allen, Mr. William Henry</td>\n",
       "      <td>male</td>\n",
       "      <td>35.0</td>\n",
       "      <td>0</td>\n",
       "      <td>0</td>\n",
       "      <td>373450</td>\n",
       "      <td>8.0500</td>\n",
       "      <td>NaN</td>\n",
       "      <td>2</td>\n",
       "      <td>Mr.</td>\n",
       "    </tr>\n",
       "  </tbody>\n",
       "</table>\n",
       "</div>"
      ],
      "text/plain": [
       "   PassengerId  Survived  Pclass  \\\n",
       "0            1         0       3   \n",
       "1            2         1       1   \n",
       "2            3         1       3   \n",
       "3            4         1       1   \n",
       "4            5         0       3   \n",
       "\n",
       "                                                Name     Sex   Age  SibSp  \\\n",
       "0                            Braund, Mr. Owen Harris    male  22.0      1   \n",
       "1  Cumings, Mrs. John Bradley (Florence Briggs Th...  female  38.0      1   \n",
       "2                             Heikkinen, Miss. Laina  female  26.0      0   \n",
       "3       Futrelle, Mrs. Jacques Heath (Lily May Peel)  female  35.0      1   \n",
       "4                           Allen, Mr. William Henry    male  35.0      0   \n",
       "\n",
       "   Parch            Ticket     Fare Cabin  Embarked  Title  \n",
       "0      0         A/5 21171   7.2500   NaN         2    Mr.  \n",
       "1      0          PC 17599  71.2833   C85         0   Mrs.  \n",
       "2      0  STON/O2. 3101282   7.9250   NaN         2  Miss.  \n",
       "3      0            113803  53.1000  C123         2   Mrs.  \n",
       "4      0            373450   8.0500   NaN         2    Mr.  "
      ]
     },
     "execution_count": 49,
     "metadata": {},
     "output_type": "execute_result"
    }
   ],
   "source": [
    "dataset['Embarked'] = dataset[['Embarked']].apply(lambda col:pd.Categorical(col).codes)\n",
    "dataset.head()"
   ]
  },
  {
   "cell_type": "code",
   "execution_count": 50,
   "metadata": {},
   "outputs": [
    {
     "name": "stdout",
     "output_type": "stream",
     "text": [
      "Correlation matrix:\n"
     ]
    },
    {
     "data": {
      "text/html": [
       "<div>\n",
       "<style scoped>\n",
       "    .dataframe tbody tr th:only-of-type {\n",
       "        vertical-align: middle;\n",
       "    }\n",
       "\n",
       "    .dataframe tbody tr th {\n",
       "        vertical-align: top;\n",
       "    }\n",
       "\n",
       "    .dataframe thead th {\n",
       "        text-align: right;\n",
       "    }\n",
       "</style>\n",
       "<table border=\"1\" class=\"dataframe\">\n",
       "  <thead>\n",
       "    <tr style=\"text-align: right;\">\n",
       "      <th></th>\n",
       "      <th>Embarked</th>\n",
       "      <th>Fare</th>\n",
       "    </tr>\n",
       "  </thead>\n",
       "  <tbody>\n",
       "    <tr>\n",
       "      <th>Embarked</th>\n",
       "      <td>1.000000</td>\n",
       "      <td>-0.230365</td>\n",
       "    </tr>\n",
       "    <tr>\n",
       "      <th>Fare</th>\n",
       "      <td>-0.230365</td>\n",
       "      <td>1.000000</td>\n",
       "    </tr>\n",
       "  </tbody>\n",
       "</table>\n",
       "</div>"
      ],
      "text/plain": [
       "          Embarked      Fare\n",
       "Embarked  1.000000 -0.230365\n",
       "Fare     -0.230365  1.000000"
      ]
     },
     "execution_count": 50,
     "metadata": {},
     "output_type": "execute_result"
    }
   ],
   "source": [
    "print(\"Correlation matrix:\")\n",
    "dataset[['Embarked', 'Fare']].corr()"
   ]
  },
  {
   "cell_type": "markdown",
   "metadata": {},
   "source": [
    " Тут уже корреляция по модулю не очень велика. В прошлых пунктах объяснялось, почему, скорее всего, между ними нет зависимости."
   ]
  },
  {
   "cell_type": "markdown",
   "metadata": {},
   "source": [
    "**Task 6** (0.5 points) <br/>\n",
    "Visualize age distribution for survived and not survived passengers separately and calculate the mean age for each class. Are they different? Provide the same visualization for males and females separately. Make conclusions about what you see on the plots"
   ]
  },
  {
   "cell_type": "code",
   "execution_count": 51,
   "metadata": {},
   "outputs": [
    {
     "name": "stdout",
     "output_type": "stream",
     "text": [
      "Survived age mean: 30.62617924528302\n",
      "Not survived age mean: 28.343689655172415\n"
     ]
    }
   ],
   "source": [
    "print(\"Survived age mean:\", dataset[dataset['Survived'] == 0]['Age'].mean())\n",
    "print(\"Not survived age mean:\", dataset[dataset['Survived'] == 1]['Age'].mean())"
   ]
  },
  {
   "cell_type": "code",
   "execution_count": 52,
   "metadata": {},
   "outputs": [
    {
     "data": {
      "image/png": "[encoded data removed]",
      "text/plain": [
       "<Figure size 1080x720 with 1 Axes>"
      ]
     },
     "metadata": {
      "needs_background": "light"
     },
     "output_type": "display_data"
    }
   ],
   "source": [
    "plt.figure(figsize=(15, 10))\n",
    "p = sns.histplot(x=dataset['Age'], hue=dataset['Survived'], kde=True)\n",
    "p.axvline(dataset[dataset['Survived'] == 0]['Age'].mean(), label='not survived mean', color='darkblue')\n",
    "p.axvline(dataset[dataset['Survived'] == 1]['Age'].mean(), label='survived mean', color='orange')\n",
    "plt.show()"
   ]
  },
  {
   "cell_type": "markdown",
   "metadata": {},
   "source": [
    "Выходит, что все-таки более молодые люди выживают чаще. Средний возраст немного отличается, хотя это может быть тоже из-за несбалансированной выборки, о которой также говорилось в прошлых пунктах. Хотя из логики понятно, что людям молодого возраста легче спастись в связи с уровнем здоровья.\n",
    "\n",
    "Также видно, что часто выживают дети. Скорее всего, их спасали более взрослые люди из гуманистических соображений."
   ]
  },
  {
   "cell_type": "code",
   "execution_count": 53,
   "metadata": {},
   "outputs": [
    {
     "data": {
      "image/png": "[encoded data removed]",
      "text/plain": [
       "<Figure size 1080x720 with 1 Axes>"
      ]
     },
     "metadata": {
      "needs_background": "light"
     },
     "output_type": "display_data"
    }
   ],
   "source": [
    "plt.figure(figsize=(15, 10))\n",
    "p = sns.histplot(x=dataset['Age'], hue=dataset['Survived'], kde=True)\n",
    "p.axvline(dataset[(dataset['Sex'] == 'male') & (dataset['Survived'] == 0)]['Age'].mean(), label='survived mean', color='darkblue')\n",
    "p.axvline(dataset[(dataset['Sex'] == 'male') & (dataset['Survived'] == 1)]['Age'].mean(), label='not survived mean', color='orange')\n",
    "p.set(title='Survived/not survived males')\n",
    "plt.show()"
   ]
  },
  {
   "cell_type": "markdown",
   "metadata": {},
   "source": [
    "Судя по графику, более молодые мужчины чаще выживают"
   ]
  },
  {
   "cell_type": "code",
   "execution_count": 54,
   "metadata": {},
   "outputs": [
    {
     "data": {
      "image/png": "[encoded data removed]",
      "text/plain": [
       "<Figure size 1080x720 with 1 Axes>"
      ]
     },
     "metadata": {
      "needs_background": "light"
     },
     "output_type": "display_data"
    }
   ],
   "source": [
    "plt.figure(figsize=(15, 10))\n",
    "p = sns.histplot(x=dataset['Age'], hue=dataset['Survived'], kde=True)\n",
    "p.axvline(dataset[(dataset['Sex'] == 'female') & (dataset['Survived'] == 0)]['Age'].mean(), label='survived mean', color='darkblue')\n",
    "p.axvline(dataset[(dataset['Sex'] == 'female') & (dataset['Survived'] == 1)]['Age'].mean(), label='not survived mean', color='orange')\n",
    "p.set(title='Survived/not survived females')\n",
    "plt.show()"
   ]
  },
  {
   "cell_type": "markdown",
   "metadata": {},
   "source": [
    "Судя по графику, более взрослые женщины чаще выживают. Возможно, из-за того, что с ними на борту были маленькие дети и их спасали вместе с ними."
   ]
  },
  {
   "cell_type": "markdown",
   "metadata": {},
   "source": [
    "Поскольку тут выборки тоже несбалансированные и средний возраст не сильно отличается, то тоже можно сказать, что непонятно, действительно ли есть разница или дело в погрешности при недостатке данных."
   ]
  }
 ],
 "metadata": {
  "kernelspec": {
   "display_name": "Python 3 (ipykernel)",
   "language": "python",
   "name": "python3"
  },
  "language_info": {
   "codemirror_mode": {
    "name": "ipython",
    "version": 3
   },
   "file_extension": ".py",
   "mimetype": "text/x-python",
   "name": "python",
   "nbconvert_exporter": "python",
   "pygments_lexer": "ipython3",
   "version": "3.9.12"
  }
 },
 "nbformat": 4,
 "nbformat_minor": 4
}
